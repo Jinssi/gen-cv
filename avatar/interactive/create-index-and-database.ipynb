{
  "cells": [
    {
      "cell_type": "markdown",
      "metadata": {},
      "source": [
        "# Create ACS Index and Azure SQL Database for Avatar Demo\n",
        "Use this notebook to create an Azure Cognitive Search Index and an Azure SQL Database and populate demo content for the Avatar outdoor shop application.  \n",
        "\n",
        "Ensure that you have the the Microsoft ODBC driver for SQL Server installed. Here are the instructions for Linux based systems:  \n",
        "https://learn.microsoft.com/en-us/sql/connect/odbc/linux-mac/installing-the-microsoft-odbc-driver-for-sql-server?view=sql-server-ver16&tabs=ubuntu18-install%2Calpine17-install%2Cdebian8-install%2Credhat7-13-install%2Crhel7-offline#18\n"
      ]
    },
    {
      "cell_type": "markdown",
      "metadata": {
        "nteract": {
          "transient": {
            "deleting": false
          }
        }
      },
      "source": [
        "## Setup"
      ]
    },
    {
      "cell_type": "code",
      "execution_count": 1,
      "metadata": {
        "gather": {
          "logged": 1700038369590
        }
      },
      "outputs": [
        {
          "name": "stdout",
          "output_type": "stream",
          "text": [
            "Requirement already satisfied: azure-search-documents==11.4.0b6 in c:\\users\\aalatval\\appdata\\local\\programs\\python\\python311\\lib\\site-packages (11.4.0b6)\n",
            "Requirement already satisfied: openai==0.28.1 in c:\\users\\aalatval\\appdata\\local\\programs\\python\\python311\\lib\\site-packages (0.28.1)\n",
            "Requirement already satisfied: tenacity in c:\\users\\aalatval\\appdata\\local\\programs\\python\\python311\\lib\\site-packages (8.2.3)\n",
            "Requirement already satisfied: pyodbc in c:\\users\\aalatval\\appdata\\local\\programs\\python\\python311\\lib\\site-packages (5.1.0)\n",
            "Requirement already satisfied: azure-core<2.0.0,>=1.24.0 in c:\\users\\aalatval\\appdata\\local\\programs\\python\\python311\\lib\\site-packages (from azure-search-documents==11.4.0b6) (1.30.1)\n",
            "Requirement already satisfied: azure-common~=1.1 in c:\\users\\aalatval\\appdata\\local\\programs\\python\\python311\\lib\\site-packages (from azure-search-documents==11.4.0b6) (1.1.28)\n",
            "Requirement already satisfied: isodate>=0.6.0 in c:\\users\\aalatval\\appdata\\local\\programs\\python\\python311\\lib\\site-packages (from azure-search-documents==11.4.0b6) (0.6.1)\n",
            "Requirement already satisfied: requests>=2.20 in c:\\users\\aalatval\\appdata\\local\\programs\\python\\python311\\lib\\site-packages (from openai==0.28.1) (2.31.0)\n",
            "Requirement already satisfied: tqdm in c:\\users\\aalatval\\appdata\\local\\programs\\python\\python311\\lib\\site-packages (from openai==0.28.1) (4.66.1)\n",
            "Requirement already satisfied: aiohttp in c:\\users\\aalatval\\appdata\\local\\programs\\python\\python311\\lib\\site-packages (from openai==0.28.1) (3.9.5)\n",
            "Requirement already satisfied: six>=1.11.0 in c:\\users\\aalatval\\appdata\\local\\programs\\python\\python311\\lib\\site-packages (from azure-core<2.0.0,>=1.24.0->azure-search-documents==11.4.0b6) (1.16.0)\n",
            "Requirement already satisfied: typing-extensions>=4.6.0 in c:\\users\\aalatval\\appdata\\local\\programs\\python\\python311\\lib\\site-packages (from azure-core<2.0.0,>=1.24.0->azure-search-documents==11.4.0b6) (4.9.0)\n",
            "Requirement already satisfied: charset-normalizer<4,>=2 in c:\\users\\aalatval\\appdata\\local\\programs\\python\\python311\\lib\\site-packages (from requests>=2.20->openai==0.28.1) (3.3.2)\n",
            "Requirement already satisfied: idna<4,>=2.5 in c:\\users\\aalatval\\appdata\\local\\programs\\python\\python311\\lib\\site-packages (from requests>=2.20->openai==0.28.1) (3.6)\n",
            "Requirement already satisfied: urllib3<3,>=1.21.1 in c:\\users\\aalatval\\appdata\\local\\programs\\python\\python311\\lib\\site-packages (from requests>=2.20->openai==0.28.1) (2.1.0)\n",
            "Requirement already satisfied: certifi>=2017.4.17 in c:\\users\\aalatval\\appdata\\local\\programs\\python\\python311\\lib\\site-packages (from requests>=2.20->openai==0.28.1) (2023.11.17)\n",
            "Requirement already satisfied: aiosignal>=1.1.2 in c:\\users\\aalatval\\appdata\\local\\programs\\python\\python311\\lib\\site-packages (from aiohttp->openai==0.28.1) (1.3.1)\n",
            "Requirement already satisfied: attrs>=17.3.0 in c:\\users\\aalatval\\appdata\\local\\programs\\python\\python311\\lib\\site-packages (from aiohttp->openai==0.28.1) (23.2.0)\n",
            "Requirement already satisfied: frozenlist>=1.1.1 in c:\\users\\aalatval\\appdata\\local\\programs\\python\\python311\\lib\\site-packages (from aiohttp->openai==0.28.1) (1.4.1)\n",
            "Requirement already satisfied: multidict<7.0,>=4.5 in c:\\users\\aalatval\\appdata\\local\\programs\\python\\python311\\lib\\site-packages (from aiohttp->openai==0.28.1) (6.0.5)\n",
            "Requirement already satisfied: yarl<2.0,>=1.0 in c:\\users\\aalatval\\appdata\\local\\programs\\python\\python311\\lib\\site-packages (from aiohttp->openai==0.28.1) (1.9.4)\n",
            "Requirement already satisfied: colorama in c:\\users\\aalatval\\appdata\\local\\programs\\python\\python311\\lib\\site-packages (from tqdm->openai==0.28.1) (0.4.6)\n",
            "Note: you may need to restart the kernel to use updated packages.\n"
          ]
        },
        {
          "name": "stderr",
          "output_type": "stream",
          "text": [
            "DEPRECATION: Loading egg at c:\\users\\aalatval\\appdata\\local\\programs\\python\\python311\\lib\\site-packages\\youtube_upload-0.8.0-py3.11.egg is deprecated. pip 24.3 will enforce this behaviour change. A possible replacement is to use pip for package installation.. Discussion can be found at https://github.com/pypa/pip/issues/12330\n"
          ]
        }
      ],
      "source": [
        "# Install the required libraries\n",
        "%pip install azure-search-documents==11.4.0b6 openai==0.28.1 tenacity pyodbc"
      ]
    },
    {
      "cell_type": "code",
      "execution_count": 25,
      "metadata": {
        "gather": {
          "logged": 1700038372029
        }
      },
      "outputs": [],
      "source": [
        "import os\n",
        "import json  \n",
        "import pandas as pd\n",
        "\n",
        "import pyodbc\n",
        "import requests\n",
        "import inspect\n",
        "\n",
        "import openai  \n",
        "from tenacity import retry, wait_random_exponential, stop_after_attempt  \n",
        "from azure.core.credentials import AzureKeyCredential  \n",
        "from azure.search.documents import SearchClient  \n",
        "from azure.search.documents.indexes import SearchIndexClient  \n",
        "from azure.search.documents.models import Vector  \n",
        "from azure.search.documents.indexes.models import (  \n",
        "    SearchIndex,  \n",
        "    SearchField,  \n",
        "    SearchFieldDataType,  \n",
        "    SimpleField,  \n",
        "    SearchableField,  \n",
        "    SearchIndex,  \n",
        "    SemanticConfiguration,  \n",
        "    PrioritizedFields,  \n",
        "    SemanticField,  \n",
        "    SearchField,  \n",
        "    SemanticSettings,  \n",
        "    VectorSearch,  \n",
        "    VectorSearchAlgorithmConfiguration,  \n",
        ")  "
      ]
    },
    {
      "cell_type": "markdown",
      "metadata": {
        "nteract": {
          "transient": {
            "deleting": false
          }
        }
      },
      "source": [
        "You need to have the following settings for your Azure resources defined in the `local.settings.json` file in the __api__ subfolder to populate the demo content for the outdoor app:"
      ]
    },
    {
      "cell_type": "code",
      "execution_count": 26,
      "metadata": {
        "gather": {
          "logged": 1700038375485
        },
        "jupyter": {
          "outputs_hidden": false,
          "source_hidden": false
        },
        "nteract": {
          "transient": {
            "deleting": false
          }
        }
      },
      "outputs": [],
      "source": [
        "# Load JSON file\n",
        "with open('./api/local.settings.json', 'r') as file:\n",
        "    data = json.load(file)\n",
        "\n",
        "# Azure Cognitive Search\n",
        "service_endpoint = data[\"Values\"][\"AZURE_SEARCH_ENDPOINT\"]\n",
        "key = data[\"Values\"][\"AZURE_SEARCH_API_KEY\"]\n",
        "index_name = data[\"Values\"][\"AZURE_SEARCH_INDEX\"]\n",
        "\n",
        "# Blob SAS URL for Azure Storage Account\n",
        "blob_sas_url = data[\"Values\"][\"BLOB_SAS_URL\"]\n",
        "\n",
        "# Azure OpenAI\n",
        "openai.api_type = \"azure\"\n",
        "openai.api_key = data[\"Values\"][\"AZURE_OPENAI_API_KEY\"]\n",
        "openai.api_base = data[\"Values\"][\"AZURE_OPENAI_ENDPOINT\"]\n",
        "openai.api_version = data[\"Values\"][\"AZURE_OPENAI_API_VERSION\"]\n",
        "AOAI_embeddings_deployment = data[\"Values\"][\"AZURE_OPENAI_EMBEDDINGS_DEPLOYMENT\"]\n",
        "\n",
        "# Azure SQL Database\n",
        "sql_db_server = data[\"Values\"][\"SQL_DB_SERVER\"]\n",
        "sql_db_user = data[\"Values\"][\"SQL_DB_USER\"]\n",
        "sql_db_password = data[\"Values\"][\"SQL_DB_PASSWORD\"]\n",
        "sql_db_name = data[\"Values\"][\"SQL_DB_NAME\"]"
      ]
    },
    {
      "cell_type": "markdown",
      "metadata": {},
      "source": [
        "## Create Cognitive Search Index\n",
        "First, we create a new Index with demo data to the Cognitive Search service that you have deployed manually."
      ]
    },
    {
      "cell_type": "code",
      "execution_count": 27,
      "metadata": {
        "gather": {
          "logged": 1699873170121
        },
        "jupyter": {
          "outputs_hidden": false,
          "source_hidden": false
        },
        "nteract": {
          "transient": {
            "deleting": false
          }
        }
      },
      "outputs": [
        {
          "data": {
            "text/html": [
              "<div>\n",
              "<style scoped>\n",
              "    .dataframe tbody tr th:only-of-type {\n",
              "        vertical-align: middle;\n",
              "    }\n",
              "\n",
              "    .dataframe tbody tr th {\n",
              "        vertical-align: top;\n",
              "    }\n",
              "\n",
              "    .dataframe thead th {\n",
              "        text-align: right;\n",
              "    }\n",
              "</style>\n",
              "<table border=\"1\" class=\"dataframe\">\n",
              "  <thead>\n",
              "    <tr style=\"text-align: right;\">\n",
              "      <th></th>\n",
              "      <th>id</th>\n",
              "      <th>category</th>\n",
              "      <th>name</th>\n",
              "      <th>tagline</th>\n",
              "      <th>description</th>\n",
              "      <th>original_price</th>\n",
              "      <th>special_offer</th>\n",
              "      <th>product_image_file</th>\n",
              "    </tr>\n",
              "  </thead>\n",
              "  <tbody>\n",
              "    <tr>\n",
              "      <th>0</th>\n",
              "      <td>1000</td>\n",
              "      <td>outdoor</td>\n",
              "      <td>Elysian Voyager</td>\n",
              "      <td>The Ultimate 2-Person Travel Tent for the Mode...</td>\n",
              "      <td>Meet the Elysian Voyager, the pinnacle of outd...</td>\n",
              "      <td>850.0</td>\n",
              "      <td>800.00</td>\n",
              "      <td>elysian-voyager.png</td>\n",
              "    </tr>\n",
              "    <tr>\n",
              "      <th>1</th>\n",
              "      <td>1001</td>\n",
              "      <td>outdoor</td>\n",
              "      <td>Terra Roamer</td>\n",
              "      <td>The All-in-One Travel Backpack for Uncharted J...</td>\n",
              "      <td>Introducing the Terra Roamer, the embodiment o...</td>\n",
              "      <td>220.0</td>\n",
              "      <td>200.00</td>\n",
              "      <td>terra-roamer.png</td>\n",
              "    </tr>\n",
              "    <tr>\n",
              "      <th>2</th>\n",
              "      <td>1002</td>\n",
              "      <td>outdoor</td>\n",
              "      <td>Cardinal Pathfinder</td>\n",
              "      <td>The Ultimate Travel Compass for Modern Explorers</td>\n",
              "      <td>Discover the Cardinal Pathfinder, a revolution...</td>\n",
              "      <td>55.0</td>\n",
              "      <td>49.99</td>\n",
              "      <td>cardinal-pathfinder.png</td>\n",
              "    </tr>\n",
              "    <tr>\n",
              "      <th>3</th>\n",
              "      <td>1003</td>\n",
              "      <td>outdoor</td>\n",
              "      <td>Slumber Drifter</td>\n",
              "      <td>The Ultimate Lightweight Travel Sleeping Bag f...</td>\n",
              "      <td>Introducing the Slumber Drifter, a game-change...</td>\n",
              "      <td>90.0</td>\n",
              "      <td>80.00</td>\n",
              "      <td>slumber-drifter.png</td>\n",
              "    </tr>\n",
              "    <tr>\n",
              "      <th>4</th>\n",
              "      <td>1004</td>\n",
              "      <td>outdoor</td>\n",
              "      <td>Blaze Adventurer</td>\n",
              "      <td>The Future of Outdoor Cooking - The Portable T...</td>\n",
              "      <td>Presenting the Blaze Adventurer, a cutting-edg...</td>\n",
              "      <td>75.0</td>\n",
              "      <td>67.99</td>\n",
              "      <td>blaze-adventurer.png</td>\n",
              "    </tr>\n",
              "  </tbody>\n",
              "</table>\n",
              "</div>"
            ],
            "text/plain": [
              "     id category                 name  \\\n",
              "0  1000  outdoor      Elysian Voyager   \n",
              "1  1001  outdoor         Terra Roamer   \n",
              "2  1002  outdoor  Cardinal Pathfinder   \n",
              "3  1003  outdoor      Slumber Drifter   \n",
              "4  1004  outdoor     Blaze Adventurer   \n",
              "\n",
              "                                             tagline  \\\n",
              "0  The Ultimate 2-Person Travel Tent for the Mode...   \n",
              "1  The All-in-One Travel Backpack for Uncharted J...   \n",
              "2   The Ultimate Travel Compass for Modern Explorers   \n",
              "3  The Ultimate Lightweight Travel Sleeping Bag f...   \n",
              "4  The Future of Outdoor Cooking - The Portable T...   \n",
              "\n",
              "                                         description  original_price  \\\n",
              "0  Meet the Elysian Voyager, the pinnacle of outd...           850.0   \n",
              "1  Introducing the Terra Roamer, the embodiment o...           220.0   \n",
              "2  Discover the Cardinal Pathfinder, a revolution...            55.0   \n",
              "3  Introducing the Slumber Drifter, a game-change...            90.0   \n",
              "4  Presenting the Blaze Adventurer, a cutting-edg...            75.0   \n",
              "\n",
              "   special_offer       product_image_file  \n",
              "0         800.00      elysian-voyager.png  \n",
              "1         200.00         terra-roamer.png  \n",
              "2          49.99  cardinal-pathfinder.png  \n",
              "3          80.00      slumber-drifter.png  \n",
              "4          67.99     blaze-adventurer.png  "
            ]
          },
          "metadata": {},
          "output_type": "display_data"
        }
      ],
      "source": [
        "credential = AzureKeyCredential(key)\n",
        "\n",
        "df = pd.read_csv('data/products_cs_index.csv', dtype={'id': str})\n",
        "display(df.head())\n",
        "input_data = df.to_dict(orient='records')"
      ]
    },
    {
      "cell_type": "code",
      "execution_count": 28,
      "metadata": {
        "gather": {
          "logged": 1699873170374
        }
      },
      "outputs": [],
      "source": [
        "@retry(wait=wait_random_exponential(min=1, max=20), stop=stop_after_attempt(6))\n",
        "# Function to generate embeddings for title and content fields, also used for query embeddings\n",
        "def generate_embeddings(text):\n",
        "    response = openai.Embedding.create(\n",
        "        input=text, engine=AOAI_embeddings_deployment)\n",
        "    embeddings = response['data'][0]['embedding']\n",
        "    return embeddings"
      ]
    },
    {
      "cell_type": "code",
      "execution_count": 29,
      "metadata": {
        "gather": {
          "logged": 1699873171802
        },
        "jupyter": {
          "outputs_hidden": false,
          "source_hidden": false
        },
        "nteract": {
          "transient": {
            "deleting": false
          }
        }
      },
      "outputs": [],
      "source": [
        "# Generate embeddings for title and content fields\n",
        "for item in input_data:\n",
        "    tagline = item['tagline']\n",
        "    description = item['description']\n",
        "    tagline_embeddings = generate_embeddings(tagline)\n",
        "    description_embeddings = generate_embeddings(description)\n",
        "    item['tagline_vector'] = tagline_embeddings\n",
        "    item['description_vector'] = description_embeddings"
      ]
    },
    {
      "cell_type": "code",
      "execution_count": 30,
      "metadata": {
        "gather": {
          "logged": 1699873171984
        }
      },
      "outputs": [],
      "source": [
        "# Output embeddings to docVectors.json file\n",
        "with open(\"./data/product-catalog-vectors.json\", \"w\") as f:\n",
        "    json.dump(input_data, f)"
      ]
    },
    {
      "cell_type": "code",
      "execution_count": 31,
      "metadata": {
        "gather": {
          "logged": 1699873172252
        }
      },
      "outputs": [
        {
          "name": "stdout",
          "output_type": "stream",
          "text": [
            "Deleting existing index...\n"
          ]
        }
      ],
      "source": [
        "# Delete ACS index if it exists\n",
        "index_client = SearchIndexClient(endpoint=service_endpoint, credential=credential)\n",
        "\n",
        "try:\n",
        "    if index_client.get_index(index_name):\n",
        "        print('Deleting existing index...')\n",
        "        index_client.delete_index(index_name)\n",
        "\n",
        "except:\n",
        "    print('Index does not exist. No need to delete it.')"
      ]
    },
    {
      "cell_type": "code",
      "execution_count": 32,
      "metadata": {
        "gather": {
          "logged": 1699873172892
        }
      },
      "outputs": [
        {
          "name": "stdout",
          "output_type": "stream",
          "text": [
            " imagesearch created\n"
          ]
        }
      ],
      "source": [
        "# Create a search index\n",
        "index_client = SearchIndexClient(endpoint=service_endpoint, credential=credential)\n",
        "\n",
        "fields = [\n",
        "    SimpleField(name=\"id\", type=SearchFieldDataType.String, key=True, sortable=True, filterable=True, facetable=True),\n",
        "    SearchableField(name=\"name\", type=SearchFieldDataType.String),\n",
        "    SearchableField(name=\"tagline\", type=SearchFieldDataType.String),\n",
        "    SearchableField(name=\"description\", type=SearchFieldDataType.String),\n",
        "    SimpleField(name=\"original_price\", type=SearchFieldDataType.Double),\n",
        "    SimpleField(name=\"special_offer\", type=SearchFieldDataType.Double),\n",
        "    SearchableField(name=\"category\", type=SearchFieldDataType.String, filterable=True),\n",
        "    SearchField(name=\"tagline_vector\", type=SearchFieldDataType.Collection(SearchFieldDataType.Single),\n",
        "                searchable=True, vector_search_dimensions=3072, vector_search_configuration=\"my-vector-config\"),\n",
        "    SearchField(name=\"description_vector\", type=SearchFieldDataType.Collection(SearchFieldDataType.Single),\n",
        "                searchable=True, vector_search_dimensions=3072, vector_search_configuration=\"my-vector-config\"),\n",
        "    SimpleField(name=\"product_image_file\", type=SearchFieldDataType.String),\n",
        "]\n",
        "\n",
        "vector_search = VectorSearch(\n",
        "    algorithm_configurations=[\n",
        "        VectorSearchAlgorithmConfiguration(\n",
        "            name=\"my-vector-config\",\n",
        "            kind=\"hnsw\",\n",
        "            hnsw_parameters={\n",
        "                \"m\": 4,\n",
        "                \"efConstruction\": 400,\n",
        "                \"efSearch\": 500,\n",
        "                \"metric\": \"cosine\"\n",
        "            }\n",
        "        )\n",
        "    ]\n",
        ")\n",
        "\n",
        "semantic_config = SemanticConfiguration(\n",
        "    name=\"my-semantic-config\",\n",
        "    prioritized_fields=PrioritizedFields(\n",
        "        title_field=SemanticField(field_name=\"tagline\"),\n",
        "        prioritized_keywords_fields=[SemanticField(field_name=\"category\")],\n",
        "        prioritized_content_fields=[SemanticField(field_name=\"description\")]\n",
        "    )\n",
        ")\n",
        "\n",
        "# Create the semantic settings with the configuration\n",
        "semantic_settings = SemanticSettings(configurations=[semantic_config])\n",
        "\n",
        "# Create the search index with the semantic settings\n",
        "index = SearchIndex(name=index_name, fields=fields,\n",
        "                    vector_search=vector_search, semantic_settings=semantic_settings)\n",
        "result = index_client.create_or_update_index(index)\n",
        "print(f' {result.name} created')"
      ]
    },
    {
      "cell_type": "code",
      "execution_count": 33,
      "metadata": {
        "gather": {
          "logged": 1699873173454
        }
      },
      "outputs": [
        {
          "ename": "HttpResponseError",
          "evalue": "(OperationNotAllowed) The request is invalid. Details: actions : 0: There's a mismatch in vector dimensions. The vector field 'tagline_vector', with dimension of '1536', expects a length of '1536'. However, the provided vector has a length of '3072'. Please ensure that the vector length matches the expected length of the vector field. Read the following documentation for more details: https://learn.microsoft.com/en-us/azure/search/vector-search-how-to-configure-compression-storage. 1: There's a mismatch in vector dimensions. The vector field 'tagline_vector', with dimension of '1536', expects a length of '1536'. However, the provided vector has a length of '3072'. Please ensure that the vector length matches the expected length of the vector field. Read the following documentation for more details: https://learn.microsoft.com/en-us/azure/search/vector-search-how-to-configure-compression-storage. 2: There's a mismatch in vector dimensions. The vector field 'tagline_vector', with dimension of '1536', expects a length of '1536'. However, the provided vector has a length of '3072'. Please ensure that the vector length matches the expected length of the vector field. Read the following documentation for more details: https://learn.microsoft.com/en-us/azure/search/vector-search-how-to-configure-compression-storage. 3: There's a mismatch in vector dimensions. The vector field 'tagline_vector', with dimension of '1536', expects a length of '1536'. However, the provided vector has a length of '3072'. Please ensure that the vector length matches the expected length of the vector field. Read the following documentation for more details: https://learn.microsoft.com/en-us/azure/search/vector-search-how-to-configure-compression-storage. 4: There's a mismatch in vector dimensions. The vector field 'tagline_vector', with dimension of '1536', expects a length of '1536'. However, the provided vector has a length of '3072'. Please ensure that the vector length matches the expected length of the vector field. Read the following documentation for more details: https://learn.microsoft.com/en-us/azure/search/vector-search-how-to-configure-compression-storage. 5: There's a mismatch in vector dimensions. The vector field 'tagline_vector', with dimension of '1536', expects a length of '1536'. However, the provided vector has a length of '3072'. Please ensure that the vector length matches the expected length of the vector field. Read the following documentation for more details: https://learn.microsoft.com/en-us/azure/search/vector-search-how-to-configure-compression-storage. 6: There's a mismatch in vector dimensions. The vector field 'tagline_vector', with dimension of '1536', expects a length of '1536'. However, the provided vector has a length of '3072'. Please ensure that the vector length matches the expected length of the vector field. Read the following documentation for more details: https://learn.microsoft.com/en-us/azure/search/vector-search-how-to-configure-compression-storage. 7: There's a mismatch in vector dimensions. The vector field 'tagline_vector', with dimension of '1536', expects a length of '1536'. However, the provided vector has a length of '3072'. Please ensure that the vector length matches the expected length of the vector field. Read the following documentation for more details: https://learn.microsoft.com/en-us/azure/search/vector-search-how-to-configure-compression-storage. 8: There's a mismatch in vector dimensions. The vector field 'tagline_vector', with dimension of '1536', expects a length of '1536'. However, the provided vector has a length of '3072'. Please ensure that the vector length matches the expected length of the vector field. Read the following documentation for more details: https://learn.microsoft.com/en-us/azure/search/vector-search-how-to-configure-compression-storage. 9: There's a mismatch in vector dimensions. The vector field 'tagline_vector', with dimension of '1536', expects a length of '1536'. However, the provided vector has a length of '3072'. Please ensure that the vector length matches the expected length of the vector field. Read the following documentation for more details: https://learn.microsoft.com/en-us/azure/search/vector-search-how-to-configure-compression-storage. 10: There's a mismatch in vector dimensions. The vector field 'tagline_vector', with dimension of '1536', expects a length of '1536'. However, the provided vector has a length of '3072'. Please ensure that the vector length matches the expected length of the vector field. Read the following documentation for more details: https://learn.microsoft.com/en-us/azure/search/vector-search-how-to-configure-compression-storage. 11: There's a mismatch in vector dimensions. The vector field 'tagline_vector', with dimension of '1536', expects a length of '1536'. However, the provided vector has a length of '3072'. Please ensure that the vector length matches the expected length of the vector field. Read the following documentation for more details: https://learn.microsoft.com/en-us/azure/search/vector-search-how-to-configure-compression-storage. 12: There's a mismatch in vector dimensions. The vector field 'tagline_vector', with dimension of '1536', expects a length of '1536'. However, the provided vector has a length of '3072'. Please ensure that the vector length matches the expected length of the vector field. Read the following documentation for more details: https://learn.microsoft.com/en-us/azure/search/vector-search-how-to-configure-compression-storage. 13: There's a mismatch in vector dimensions. The vector field 'tagline_vector', with dimension of '1536', expects a length of '1536'. However, the provided vector has a length of '3072'. Please ensure that the vector length matches the expected length of the vector field. Read the following documentation for more details: https://learn.microsoft.com/en-us/azure/search/vector-search-how-to-configure-compression-storage. 14: There's a mismatch in vector dimensions. The vector field 'tagline_vector', with dimension of '1536', expects a length of '1536'. However, the provided vector has a length of '3072'. Please ensure that the vector length matches the expected length of the vector field. Read the following documentation for more details: https://learn.microsoft.com/en-us/azure/search/vector-search-how-to-configure-compression-storage. 15: There's a mismatch in vector dimensions. The vector field 'tagline_vector', with dimension of '1536', expects a length of '1536'. However, the provided vector has a length of '3072'. Please ensure that the vector length matches the expected length of the vector field. Read the following documentation for more details: https://learn.microsoft.com/en-us/azure/search/vector-search-how-to-configure-compression-storage. 16: There's a mismatch in vector dimensions. The vector field 'tagline_vector', with dimension of '1536', expects a length of '1536'. However, the provided vector has a length of '3072'. Please ensure that the vector length matches the expected length of the vector field. Read the following documentation for more details: https://learn.microsoft.com/en-us/azure/search/vector-search-how-to-configure-compression-storage. 17: There's a mismatch in vector dimensions. The vector field 'tagline_vector', with dimension of '1536', expects a length of '1536'. However, the provided vector has a length of '3072'. Please ensure that the vector length matches the expected length of the vector field. Read the following documentation for more details: https://learn.microsoft.com/en-us/azure/search/vector-search-how-to-configure-compression-storage. 18: There's a mismatch in vector dimensions. The vector field 'tagline_vector', with dimension of '1536', expects a length of '1536'. However, the provided vector has a length of '3072'. Please ensure that the vector length matches the expected length of the vector field. Read the following documentation for more details: https://learn.microsoft.com/en-us/azure/search/vector-search-how-to-configure-compression-storage.\nCode: OperationNotAllowed\nMessage: The request is invalid. Details: actions : 0: There's a mismatch in vector dimensions. The vector field 'tagline_vector', with dimension of '1536', expects a length of '1536'. However, the provided vector has a length of '3072'. Please ensure that the vector length matches the expected length of the vector field. Read the following documentation for more details: https://learn.microsoft.com/en-us/azure/search/vector-search-how-to-configure-compression-storage. 1: There's a mismatch in vector dimensions. The vector field 'tagline_vector', with dimension of '1536', expects a length of '1536'. However, the provided vector has a length of '3072'. Please ensure that the vector length matches the expected length of the vector field. Read the following documentation for more details: https://learn.microsoft.com/en-us/azure/search/vector-search-how-to-configure-compression-storage. 2: There's a mismatch in vector dimensions. The vector field 'tagline_vector', with dimension of '1536', expects a length of '1536'. However, the provided vector has a length of '3072'. Please ensure that the vector length matches the expected length of the vector field. Read the following documentation for more details: https://learn.microsoft.com/en-us/azure/search/vector-search-how-to-configure-compression-storage. 3: There's a mismatch in vector dimensions. The vector field 'tagline_vector', with dimension of '1536', expects a length of '1536'. However, the provided vector has a length of '3072'. Please ensure that the vector length matches the expected length of the vector field. Read the following documentation for more details: https://learn.microsoft.com/en-us/azure/search/vector-search-how-to-configure-compression-storage. 4: There's a mismatch in vector dimensions. The vector field 'tagline_vector', with dimension of '1536', expects a length of '1536'. However, the provided vector has a length of '3072'. Please ensure that the vector length matches the expected length of the vector field. Read the following documentation for more details: https://learn.microsoft.com/en-us/azure/search/vector-search-how-to-configure-compression-storage. 5: There's a mismatch in vector dimensions. The vector field 'tagline_vector', with dimension of '1536', expects a length of '1536'. However, the provided vector has a length of '3072'. Please ensure that the vector length matches the expected length of the vector field. Read the following documentation for more details: https://learn.microsoft.com/en-us/azure/search/vector-search-how-to-configure-compression-storage. 6: There's a mismatch in vector dimensions. The vector field 'tagline_vector', with dimension of '1536', expects a length of '1536'. However, the provided vector has a length of '3072'. Please ensure that the vector length matches the expected length of the vector field. Read the following documentation for more details: https://learn.microsoft.com/en-us/azure/search/vector-search-how-to-configure-compression-storage. 7: There's a mismatch in vector dimensions. The vector field 'tagline_vector', with dimension of '1536', expects a length of '1536'. However, the provided vector has a length of '3072'. Please ensure that the vector length matches the expected length of the vector field. Read the following documentation for more details: https://learn.microsoft.com/en-us/azure/search/vector-search-how-to-configure-compression-storage. 8: There's a mismatch in vector dimensions. The vector field 'tagline_vector', with dimension of '1536', expects a length of '1536'. However, the provided vector has a length of '3072'. Please ensure that the vector length matches the expected length of the vector field. Read the following documentation for more details: https://learn.microsoft.com/en-us/azure/search/vector-search-how-to-configure-compression-storage. 9: There's a mismatch in vector dimensions. The vector field 'tagline_vector', with dimension of '1536', expects a length of '1536'. However, the provided vector has a length of '3072'. Please ensure that the vector length matches the expected length of the vector field. Read the following documentation for more details: https://learn.microsoft.com/en-us/azure/search/vector-search-how-to-configure-compression-storage. 10: There's a mismatch in vector dimensions. The vector field 'tagline_vector', with dimension of '1536', expects a length of '1536'. However, the provided vector has a length of '3072'. Please ensure that the vector length matches the expected length of the vector field. Read the following documentation for more details: https://learn.microsoft.com/en-us/azure/search/vector-search-how-to-configure-compression-storage. 11: There's a mismatch in vector dimensions. The vector field 'tagline_vector', with dimension of '1536', expects a length of '1536'. However, the provided vector has a length of '3072'. Please ensure that the vector length matches the expected length of the vector field. Read the following documentation for more details: https://learn.microsoft.com/en-us/azure/search/vector-search-how-to-configure-compression-storage. 12: There's a mismatch in vector dimensions. The vector field 'tagline_vector', with dimension of '1536', expects a length of '1536'. However, the provided vector has a length of '3072'. Please ensure that the vector length matches the expected length of the vector field. Read the following documentation for more details: https://learn.microsoft.com/en-us/azure/search/vector-search-how-to-configure-compression-storage. 13: There's a mismatch in vector dimensions. The vector field 'tagline_vector', with dimension of '1536', expects a length of '1536'. However, the provided vector has a length of '3072'. Please ensure that the vector length matches the expected length of the vector field. Read the following documentation for more details: https://learn.microsoft.com/en-us/azure/search/vector-search-how-to-configure-compression-storage. 14: There's a mismatch in vector dimensions. The vector field 'tagline_vector', with dimension of '1536', expects a length of '1536'. However, the provided vector has a length of '3072'. Please ensure that the vector length matches the expected length of the vector field. Read the following documentation for more details: https://learn.microsoft.com/en-us/azure/search/vector-search-how-to-configure-compression-storage. 15: There's a mismatch in vector dimensions. The vector field 'tagline_vector', with dimension of '1536', expects a length of '1536'. However, the provided vector has a length of '3072'. Please ensure that the vector length matches the expected length of the vector field. Read the following documentation for more details: https://learn.microsoft.com/en-us/azure/search/vector-search-how-to-configure-compression-storage. 16: There's a mismatch in vector dimensions. The vector field 'tagline_vector', with dimension of '1536', expects a length of '1536'. However, the provided vector has a length of '3072'. Please ensure that the vector length matches the expected length of the vector field. Read the following documentation for more details: https://learn.microsoft.com/en-us/azure/search/vector-search-how-to-configure-compression-storage. 17: There's a mismatch in vector dimensions. The vector field 'tagline_vector', with dimension of '1536', expects a length of '1536'. However, the provided vector has a length of '3072'. Please ensure that the vector length matches the expected length of the vector field. Read the following documentation for more details: https://learn.microsoft.com/en-us/azure/search/vector-search-how-to-configure-compression-storage. 18: There's a mismatch in vector dimensions. The vector field 'tagline_vector', with dimension of '1536', expects a length of '1536'. However, the provided vector has a length of '3072'. Please ensure that the vector length matches the expected length of the vector field. Read the following documentation for more details: https://learn.microsoft.com/en-us/azure/search/vector-search-how-to-configure-compression-storage.\nException Details:\t(IndexDocumentsFieldError) 0: There's a mismatch in vector dimensions. The vector field 'tagline_vector', with dimension of '1536', expects a length of '1536'. However, the provided vector has a length of '3072'. Please ensure that the vector length matches the expected length of the vector field. Read the following documentation for more details: https://learn.microsoft.com/en-us/azure/search/vector-search-how-to-configure-compression-storage. Parameters: actions\n\tCode: IndexDocumentsFieldError\n\tMessage: 0: There's a mismatch in vector dimensions. The vector field 'tagline_vector', with dimension of '1536', expects a length of '1536'. However, the provided vector has a length of '3072'. Please ensure that the vector length matches the expected length of the vector field. Read the following documentation for more details: https://learn.microsoft.com/en-us/azure/search/vector-search-how-to-configure-compression-storage. Parameters: actions\t(IndexDocumentsFieldError) 1: There's a mismatch in vector dimensions. The vector field 'tagline_vector', with dimension of '1536', expects a length of '1536'. However, the provided vector has a length of '3072'. Please ensure that the vector length matches the expected length of the vector field. Read the following documentation for more details: https://learn.microsoft.com/en-us/azure/search/vector-search-how-to-configure-compression-storage.\n\tCode: IndexDocumentsFieldError\n\tMessage: 1: There's a mismatch in vector dimensions. The vector field 'tagline_vector', with dimension of '1536', expects a length of '1536'. However, the provided vector has a length of '3072'. Please ensure that the vector length matches the expected length of the vector field. Read the following documentation for more details: https://learn.microsoft.com/en-us/azure/search/vector-search-how-to-configure-compression-storage.\t(IndexDocumentsFieldError) 2: There's a mismatch in vector dimensions. The vector field 'tagline_vector', with dimension of '1536', expects a length of '1536'. However, the provided vector has a length of '3072'. Please ensure that the vector length matches the expected length of the vector field. Read the following documentation for more details: https://learn.microsoft.com/en-us/azure/search/vector-search-how-to-configure-compression-storage.\n\tCode: IndexDocumentsFieldError\n\tMessage: 2: There's a mismatch in vector dimensions. The vector field 'tagline_vector', with dimension of '1536', expects a length of '1536'. However, the provided vector has a length of '3072'. Please ensure that the vector length matches the expected length of the vector field. Read the following documentation for more details: https://learn.microsoft.com/en-us/azure/search/vector-search-how-to-configure-compression-storage.\t(IndexDocumentsFieldError) 3: There's a mismatch in vector dimensions. The vector field 'tagline_vector', with dimension of '1536', expects a length of '1536'. However, the provided vector has a length of '3072'. Please ensure that the vector length matches the expected length of the vector field. Read the following documentation for more details: https://learn.microsoft.com/en-us/azure/search/vector-search-how-to-configure-compression-storage.\n\tCode: IndexDocumentsFieldError\n\tMessage: 3: There's a mismatch in vector dimensions. The vector field 'tagline_vector', with dimension of '1536', expects a length of '1536'. However, the provided vector has a length of '3072'. Please ensure that the vector length matches the expected length of the vector field. Read the following documentation for more details: https://learn.microsoft.com/en-us/azure/search/vector-search-how-to-configure-compression-storage.\t(IndexDocumentsFieldError) 4: There's a mismatch in vector dimensions. The vector field 'tagline_vector', with dimension of '1536', expects a length of '1536'. However, the provided vector has a length of '3072'. Please ensure that the vector length matches the expected length of the vector field. Read the following documentation for more details: https://learn.microsoft.com/en-us/azure/search/vector-search-how-to-configure-compression-storage.\n\tCode: IndexDocumentsFieldError\n\tMessage: 4: There's a mismatch in vector dimensions. The vector field 'tagline_vector', with dimension of '1536', expects a length of '1536'. However, the provided vector has a length of '3072'. Please ensure that the vector length matches the expected length of the vector field. Read the following documentation for more details: https://learn.microsoft.com/en-us/azure/search/vector-search-how-to-configure-compression-storage.\t(IndexDocumentsFieldError) 5: There's a mismatch in vector dimensions. The vector field 'tagline_vector', with dimension of '1536', expects a length of '1536'. However, the provided vector has a length of '3072'. Please ensure that the vector length matches the expected length of the vector field. Read the following documentation for more details: https://learn.microsoft.com/en-us/azure/search/vector-search-how-to-configure-compression-storage.\n\tCode: IndexDocumentsFieldError\n\tMessage: 5: There's a mismatch in vector dimensions. The vector field 'tagline_vector', with dimension of '1536', expects a length of '1536'. However, the provided vector has a length of '3072'. Please ensure that the vector length matches the expected length of the vector field. Read the following documentation for more details: https://learn.microsoft.com/en-us/azure/search/vector-search-how-to-configure-compression-storage.\t(IndexDocumentsFieldError) 6: There's a mismatch in vector dimensions. The vector field 'tagline_vector', with dimension of '1536', expects a length of '1536'. However, the provided vector has a length of '3072'. Please ensure that the vector length matches the expected length of the vector field. Read the following documentation for more details: https://learn.microsoft.com/en-us/azure/search/vector-search-how-to-configure-compression-storage.\n\tCode: IndexDocumentsFieldError\n\tMessage: 6: There's a mismatch in vector dimensions. The vector field 'tagline_vector', with dimension of '1536', expects a length of '1536'. However, the provided vector has a length of '3072'. Please ensure that the vector length matches the expected length of the vector field. Read the following documentation for more details: https://learn.microsoft.com/en-us/azure/search/vector-search-how-to-configure-compression-storage.\t(IndexDocumentsFieldError) 7: There's a mismatch in vector dimensions. The vector field 'tagline_vector', with dimension of '1536', expects a length of '1536'. However, the provided vector has a length of '3072'. Please ensure that the vector length matches the expected length of the vector field. Read the following documentation for more details: https://learn.microsoft.com/en-us/azure/search/vector-search-how-to-configure-compression-storage.\n\tCode: IndexDocumentsFieldError\n\tMessage: 7: There's a mismatch in vector dimensions. The vector field 'tagline_vector', with dimension of '1536', expects a length of '1536'. However, the provided vector has a length of '3072'. Please ensure that the vector length matches the expected length of the vector field. Read the following documentation for more details: https://learn.microsoft.com/en-us/azure/search/vector-search-how-to-configure-compression-storage.\t(IndexDocumentsFieldError) 8: There's a mismatch in vector dimensions. The vector field 'tagline_vector', with dimension of '1536', expects a length of '1536'. However, the provided vector has a length of '3072'. Please ensure that the vector length matches the expected length of the vector field. Read the following documentation for more details: https://learn.microsoft.com/en-us/azure/search/vector-search-how-to-configure-compression-storage.\n\tCode: IndexDocumentsFieldError\n\tMessage: 8: There's a mismatch in vector dimensions. The vector field 'tagline_vector', with dimension of '1536', expects a length of '1536'. However, the provided vector has a length of '3072'. Please ensure that the vector length matches the expected length of the vector field. Read the following documentation for more details: https://learn.microsoft.com/en-us/azure/search/vector-search-how-to-configure-compression-storage.\t(IndexDocumentsFieldError) 9: There's a mismatch in vector dimensions. The vector field 'tagline_vector', with dimension of '1536', expects a length of '1536'. However, the provided vector has a length of '3072'. Please ensure that the vector length matches the expected length of the vector field. Read the following documentation for more details: https://learn.microsoft.com/en-us/azure/search/vector-search-how-to-configure-compression-storage.\n\tCode: IndexDocumentsFieldError\n\tMessage: 9: There's a mismatch in vector dimensions. The vector field 'tagline_vector', with dimension of '1536', expects a length of '1536'. However, the provided vector has a length of '3072'. Please ensure that the vector length matches the expected length of the vector field. Read the following documentation for more details: https://learn.microsoft.com/en-us/azure/search/vector-search-how-to-configure-compression-storage.\t(IndexDocumentsFieldError) 10: There's a mismatch in vector dimensions. The vector field 'tagline_vector', with dimension of '1536', expects a length of '1536'. However, the provided vector has a length of '3072'. Please ensure that the vector length matches the expected length of the vector field. Read the following documentation for more details: https://learn.microsoft.com/en-us/azure/search/vector-search-how-to-configure-compression-storage.\n\tCode: IndexDocumentsFieldError\n\tMessage: 10: There's a mismatch in vector dimensions. The vector field 'tagline_vector', with dimension of '1536', expects a length of '1536'. However, the provided vector has a length of '3072'. Please ensure that the vector length matches the expected length of the vector field. Read the following documentation for more details: https://learn.microsoft.com/en-us/azure/search/vector-search-how-to-configure-compression-storage.\t(IndexDocumentsFieldError) 11: There's a mismatch in vector dimensions. The vector field 'tagline_vector', with dimension of '1536', expects a length of '1536'. However, the provided vector has a length of '3072'. Please ensure that the vector length matches the expected length of the vector field. Read the following documentation for more details: https://learn.microsoft.com/en-us/azure/search/vector-search-how-to-configure-compression-storage.\n\tCode: IndexDocumentsFieldError\n\tMessage: 11: There's a mismatch in vector dimensions. The vector field 'tagline_vector', with dimension of '1536', expects a length of '1536'. However, the provided vector has a length of '3072'. Please ensure that the vector length matches the expected length of the vector field. Read the following documentation for more details: https://learn.microsoft.com/en-us/azure/search/vector-search-how-to-configure-compression-storage.\t(IndexDocumentsFieldError) 12: There's a mismatch in vector dimensions. The vector field 'tagline_vector', with dimension of '1536', expects a length of '1536'. However, the provided vector has a length of '3072'. Please ensure that the vector length matches the expected length of the vector field. Read the following documentation for more details: https://learn.microsoft.com/en-us/azure/search/vector-search-how-to-configure-compression-storage.\n\tCode: IndexDocumentsFieldError\n\tMessage: 12: There's a mismatch in vector dimensions. The vector field 'tagline_vector', with dimension of '1536', expects a length of '1536'. However, the provided vector has a length of '3072'. Please ensure that the vector length matches the expected length of the vector field. Read the following documentation for more details: https://learn.microsoft.com/en-us/azure/search/vector-search-how-to-configure-compression-storage.\t(IndexDocumentsFieldError) 13: There's a mismatch in vector dimensions. The vector field 'tagline_vector', with dimension of '1536', expects a length of '1536'. However, the provided vector has a length of '3072'. Please ensure that the vector length matches the expected length of the vector field. Read the following documentation for more details: https://learn.microsoft.com/en-us/azure/search/vector-search-how-to-configure-compression-storage.\n\tCode: IndexDocumentsFieldError\n\tMessage: 13: There's a mismatch in vector dimensions. The vector field 'tagline_vector', with dimension of '1536', expects a length of '1536'. However, the provided vector has a length of '3072'. Please ensure that the vector length matches the expected length of the vector field. Read the following documentation for more details: https://learn.microsoft.com/en-us/azure/search/vector-search-how-to-configure-compression-storage.\t(IndexDocumentsFieldError) 14: There's a mismatch in vector dimensions. The vector field 'tagline_vector', with dimension of '1536', expects a length of '1536'. However, the provided vector has a length of '3072'. Please ensure that the vector length matches the expected length of the vector field. Read the following documentation for more details: https://learn.microsoft.com/en-us/azure/search/vector-search-how-to-configure-compression-storage.\n\tCode: IndexDocumentsFieldError\n\tMessage: 14: There's a mismatch in vector dimensions. The vector field 'tagline_vector', with dimension of '1536', expects a length of '1536'. However, the provided vector has a length of '3072'. Please ensure that the vector length matches the expected length of the vector field. Read the following documentation for more details: https://learn.microsoft.com/en-us/azure/search/vector-search-how-to-configure-compression-storage.\t(IndexDocumentsFieldError) 15: There's a mismatch in vector dimensions. The vector field 'tagline_vector', with dimension of '1536', expects a length of '1536'. However, the provided vector has a length of '3072'. Please ensure that the vector length matches the expected length of the vector field. Read the following documentation for more details: https://learn.microsoft.com/en-us/azure/search/vector-search-how-to-configure-compression-storage.\n\tCode: IndexDocumentsFieldError\n\tMessage: 15: There's a mismatch in vector dimensions. The vector field 'tagline_vector', with dimension of '1536', expects a length of '1536'. However, the provided vector has a length of '3072'. Please ensure that the vector length matches the expected length of the vector field. Read the following documentation for more details: https://learn.microsoft.com/en-us/azure/search/vector-search-how-to-configure-compression-storage.\t(IndexDocumentsFieldError) 16: There's a mismatch in vector dimensions. The vector field 'tagline_vector', with dimension of '1536', expects a length of '1536'. However, the provided vector has a length of '3072'. Please ensure that the vector length matches the expected length of the vector field. Read the following documentation for more details: https://learn.microsoft.com/en-us/azure/search/vector-search-how-to-configure-compression-storage.\n\tCode: IndexDocumentsFieldError\n\tMessage: 16: There's a mismatch in vector dimensions. The vector field 'tagline_vector', with dimension of '1536', expects a length of '1536'. However, the provided vector has a length of '3072'. Please ensure that the vector length matches the expected length of the vector field. Read the following documentation for more details: https://learn.microsoft.com/en-us/azure/search/vector-search-how-to-configure-compression-storage.\t(IndexDocumentsFieldError) 17: There's a mismatch in vector dimensions. The vector field 'tagline_vector', with dimension of '1536', expects a length of '1536'. However, the provided vector has a length of '3072'. Please ensure that the vector length matches the expected length of the vector field. Read the following documentation for more details: https://learn.microsoft.com/en-us/azure/search/vector-search-how-to-configure-compression-storage.\n\tCode: IndexDocumentsFieldError\n\tMessage: 17: There's a mismatch in vector dimensions. The vector field 'tagline_vector', with dimension of '1536', expects a length of '1536'. However, the provided vector has a length of '3072'. Please ensure that the vector length matches the expected length of the vector field. Read the following documentation for more details: https://learn.microsoft.com/en-us/azure/search/vector-search-how-to-configure-compression-storage.\t(IndexDocumentsFieldError) 18: There's a mismatch in vector dimensions. The vector field 'tagline_vector', with dimension of '1536', expects a length of '1536'. However, the provided vector has a length of '3072'. Please ensure that the vector length matches the expected length of the vector field. Read the following documentation for more details: https://learn.microsoft.com/en-us/azure/search/vector-search-how-to-configure-compression-storage.\n\tCode: IndexDocumentsFieldError\n\tMessage: 18: There's a mismatch in vector dimensions. The vector field 'tagline_vector', with dimension of '1536', expects a length of '1536'. However, the provided vector has a length of '3072'. Please ensure that the vector length matches the expected length of the vector field. Read the following documentation for more details: https://learn.microsoft.com/en-us/azure/search/vector-search-how-to-configure-compression-storage.",
          "output_type": "error",
          "traceback": [
            "\u001b[1;31m---------------------------------------------------------------------------\u001b[0m",
            "\u001b[1;31mHttpResponseError\u001b[0m                         Traceback (most recent call last)",
            "Cell \u001b[1;32mIn[33], line 5\u001b[0m\n\u001b[0;32m      3\u001b[0m     documents \u001b[38;5;241m=\u001b[39m json\u001b[38;5;241m.\u001b[39mload(file)  \n\u001b[0;32m      4\u001b[0m search_client \u001b[38;5;241m=\u001b[39m SearchClient(endpoint\u001b[38;5;241m=\u001b[39mservice_endpoint, index_name\u001b[38;5;241m=\u001b[39mindex_name, credential\u001b[38;5;241m=\u001b[39mcredential)\n\u001b[1;32m----> 5\u001b[0m result \u001b[38;5;241m=\u001b[39m \u001b[43msearch_client\u001b[49m\u001b[38;5;241;43m.\u001b[39;49m\u001b[43mupload_documents\u001b[49m\u001b[43m(\u001b[49m\u001b[43mdocuments\u001b[49m\u001b[43m)\u001b[49m  \n\u001b[0;32m      6\u001b[0m \u001b[38;5;28mprint\u001b[39m(\u001b[38;5;124mf\u001b[39m\u001b[38;5;124m\"\u001b[39m\u001b[38;5;124mUploaded \u001b[39m\u001b[38;5;132;01m{\u001b[39;00m\u001b[38;5;28mlen\u001b[39m(documents)\u001b[38;5;132;01m}\u001b[39;00m\u001b[38;5;124m documents\u001b[39m\u001b[38;5;124m\"\u001b[39m) \n",
            "File \u001b[1;32mc:\\Users\\aalatval\\AppData\\Local\\Programs\\Python\\Python311\\Lib\\site-packages\\azure\\search\\documents\\_search_client.py:553\u001b[0m, in \u001b[0;36mSearchClient.upload_documents\u001b[1;34m(self, documents, **kwargs)\u001b[0m\n\u001b[0;32m    550\u001b[0m batch\u001b[38;5;241m.\u001b[39madd_upload_actions(documents)\n\u001b[0;32m    552\u001b[0m kwargs[\u001b[38;5;124m\"\u001b[39m\u001b[38;5;124mheaders\u001b[39m\u001b[38;5;124m\"\u001b[39m] \u001b[38;5;241m=\u001b[39m \u001b[38;5;28mself\u001b[39m\u001b[38;5;241m.\u001b[39m_merge_client_headers(kwargs\u001b[38;5;241m.\u001b[39mget(\u001b[38;5;124m\"\u001b[39m\u001b[38;5;124mheaders\u001b[39m\u001b[38;5;124m\"\u001b[39m))\n\u001b[1;32m--> 553\u001b[0m results \u001b[38;5;241m=\u001b[39m \u001b[38;5;28;43mself\u001b[39;49m\u001b[38;5;241;43m.\u001b[39;49m\u001b[43mindex_documents\u001b[49m\u001b[43m(\u001b[49m\u001b[43mbatch\u001b[49m\u001b[43m,\u001b[49m\u001b[43m \u001b[49m\u001b[38;5;241;43m*\u001b[39;49m\u001b[38;5;241;43m*\u001b[39;49m\u001b[43mkwargs\u001b[49m\u001b[43m)\u001b[49m\n\u001b[0;32m    554\u001b[0m \u001b[38;5;28;01mreturn\u001b[39;00m cast(List[IndexingResult], results)\n",
            "File \u001b[1;32mc:\\Users\\aalatval\\AppData\\Local\\Programs\\Python\\Python311\\Lib\\site-packages\\azure\\core\\tracing\\decorator.py:78\u001b[0m, in \u001b[0;36mdistributed_trace.<locals>.decorator.<locals>.wrapper_use_tracer\u001b[1;34m(*args, **kwargs)\u001b[0m\n\u001b[0;32m     76\u001b[0m span_impl_type \u001b[38;5;241m=\u001b[39m settings\u001b[38;5;241m.\u001b[39mtracing_implementation()\n\u001b[0;32m     77\u001b[0m \u001b[38;5;28;01mif\u001b[39;00m span_impl_type \u001b[38;5;129;01mis\u001b[39;00m \u001b[38;5;28;01mNone\u001b[39;00m:\n\u001b[1;32m---> 78\u001b[0m     \u001b[38;5;28;01mreturn\u001b[39;00m \u001b[43mfunc\u001b[49m\u001b[43m(\u001b[49m\u001b[38;5;241;43m*\u001b[39;49m\u001b[43margs\u001b[49m\u001b[43m,\u001b[49m\u001b[43m \u001b[49m\u001b[38;5;241;43m*\u001b[39;49m\u001b[38;5;241;43m*\u001b[39;49m\u001b[43mkwargs\u001b[49m\u001b[43m)\u001b[49m\n\u001b[0;32m     80\u001b[0m \u001b[38;5;66;03m# Merge span is parameter is set, but only if no explicit parent are passed\u001b[39;00m\n\u001b[0;32m     81\u001b[0m \u001b[38;5;28;01mif\u001b[39;00m merge_span \u001b[38;5;129;01mand\u001b[39;00m \u001b[38;5;129;01mnot\u001b[39;00m passed_in_parent:\n",
            "File \u001b[1;32mc:\\Users\\aalatval\\AppData\\Local\\Programs\\Python\\Python311\\Lib\\site-packages\\azure\\search\\documents\\_search_client.py:651\u001b[0m, in \u001b[0;36mSearchClient.index_documents\u001b[1;34m(self, batch, **kwargs)\u001b[0m\n\u001b[0;32m    641\u001b[0m \u001b[38;5;129m@distributed_trace\u001b[39m\n\u001b[0;32m    642\u001b[0m \u001b[38;5;28;01mdef\u001b[39;00m \u001b[38;5;21mindex_documents\u001b[39m(\u001b[38;5;28mself\u001b[39m, batch: IndexDocumentsBatch, \u001b[38;5;241m*\u001b[39m\u001b[38;5;241m*\u001b[39mkwargs: Any) \u001b[38;5;241m-\u001b[39m\u001b[38;5;241m>\u001b[39m List[IndexingResult]:\n\u001b[0;32m    643\u001b[0m \u001b[38;5;250m    \u001b[39m\u001b[38;5;124;03m\"\"\"Specify a document operations to perform as a batch.\u001b[39;00m\n\u001b[0;32m    644\u001b[0m \n\u001b[0;32m    645\u001b[0m \u001b[38;5;124;03m    :param batch: A batch of document operations to perform.\u001b[39;00m\n\u001b[1;32m   (...)\u001b[0m\n\u001b[0;32m    649\u001b[0m \u001b[38;5;124;03m    :raises :class:`~azure.search.documents.RequestEntityTooLargeError`\u001b[39;00m\n\u001b[0;32m    650\u001b[0m \u001b[38;5;124;03m    \"\"\"\u001b[39;00m\n\u001b[1;32m--> 651\u001b[0m     \u001b[38;5;28;01mreturn\u001b[39;00m \u001b[38;5;28;43mself\u001b[39;49m\u001b[38;5;241;43m.\u001b[39;49m\u001b[43m_index_documents_actions\u001b[49m\u001b[43m(\u001b[49m\u001b[43mactions\u001b[49m\u001b[38;5;241;43m=\u001b[39;49m\u001b[43mbatch\u001b[49m\u001b[38;5;241;43m.\u001b[39;49m\u001b[43mactions\u001b[49m\u001b[43m,\u001b[49m\u001b[43m \u001b[49m\u001b[38;5;241;43m*\u001b[39;49m\u001b[38;5;241;43m*\u001b[39;49m\u001b[43mkwargs\u001b[49m\u001b[43m)\u001b[49m\n",
            "File \u001b[1;32mc:\\Users\\aalatval\\AppData\\Local\\Programs\\Python\\Python311\\Lib\\site-packages\\azure\\search\\documents\\_search_client.py:659\u001b[0m, in \u001b[0;36mSearchClient._index_documents_actions\u001b[1;34m(self, actions, **kwargs)\u001b[0m\n\u001b[0;32m    657\u001b[0m batch \u001b[38;5;241m=\u001b[39m IndexBatch(actions\u001b[38;5;241m=\u001b[39mactions)\n\u001b[0;32m    658\u001b[0m \u001b[38;5;28;01mtry\u001b[39;00m:\n\u001b[1;32m--> 659\u001b[0m     batch_response \u001b[38;5;241m=\u001b[39m \u001b[38;5;28;43mself\u001b[39;49m\u001b[38;5;241;43m.\u001b[39;49m\u001b[43m_client\u001b[49m\u001b[38;5;241;43m.\u001b[39;49m\u001b[43mdocuments\u001b[49m\u001b[38;5;241;43m.\u001b[39;49m\u001b[43mindex\u001b[49m\u001b[43m(\u001b[49m\u001b[43mbatch\u001b[49m\u001b[38;5;241;43m=\u001b[39;49m\u001b[43mbatch\u001b[49m\u001b[43m,\u001b[49m\u001b[43m \u001b[49m\u001b[43merror_map\u001b[49m\u001b[38;5;241;43m=\u001b[39;49m\u001b[43merror_map\u001b[49m\u001b[43m,\u001b[49m\u001b[43m \u001b[49m\u001b[38;5;241;43m*\u001b[39;49m\u001b[38;5;241;43m*\u001b[39;49m\u001b[43mkwargs\u001b[49m\u001b[43m)\u001b[49m\n\u001b[0;32m    660\u001b[0m     \u001b[38;5;28;01mreturn\u001b[39;00m cast(List[IndexingResult], batch_response\u001b[38;5;241m.\u001b[39mresults)\n\u001b[0;32m    661\u001b[0m \u001b[38;5;28;01mexcept\u001b[39;00m RequestEntityTooLargeError:\n",
            "File \u001b[1;32mc:\\Users\\aalatval\\AppData\\Local\\Programs\\Python\\Python311\\Lib\\site-packages\\azure\\core\\tracing\\decorator.py:78\u001b[0m, in \u001b[0;36mdistributed_trace.<locals>.decorator.<locals>.wrapper_use_tracer\u001b[1;34m(*args, **kwargs)\u001b[0m\n\u001b[0;32m     76\u001b[0m span_impl_type \u001b[38;5;241m=\u001b[39m settings\u001b[38;5;241m.\u001b[39mtracing_implementation()\n\u001b[0;32m     77\u001b[0m \u001b[38;5;28;01mif\u001b[39;00m span_impl_type \u001b[38;5;129;01mis\u001b[39;00m \u001b[38;5;28;01mNone\u001b[39;00m:\n\u001b[1;32m---> 78\u001b[0m     \u001b[38;5;28;01mreturn\u001b[39;00m \u001b[43mfunc\u001b[49m\u001b[43m(\u001b[49m\u001b[38;5;241;43m*\u001b[39;49m\u001b[43margs\u001b[49m\u001b[43m,\u001b[49m\u001b[43m \u001b[49m\u001b[38;5;241;43m*\u001b[39;49m\u001b[38;5;241;43m*\u001b[39;49m\u001b[43mkwargs\u001b[49m\u001b[43m)\u001b[49m\n\u001b[0;32m     80\u001b[0m \u001b[38;5;66;03m# Merge span is parameter is set, but only if no explicit parent are passed\u001b[39;00m\n\u001b[0;32m     81\u001b[0m \u001b[38;5;28;01mif\u001b[39;00m merge_span \u001b[38;5;129;01mand\u001b[39;00m \u001b[38;5;129;01mnot\u001b[39;00m passed_in_parent:\n",
            "File \u001b[1;32mc:\\Users\\aalatval\\AppData\\Local\\Programs\\Python\\Python311\\Lib\\site-packages\\azure\\search\\documents\\_generated\\operations\\_documents_operations.py:1270\u001b[0m, in \u001b[0;36mDocumentsOperations.index\u001b[1;34m(self, batch, request_options, **kwargs)\u001b[0m\n\u001b[0;32m   1268\u001b[0m     map_error(status_code\u001b[38;5;241m=\u001b[39mresponse\u001b[38;5;241m.\u001b[39mstatus_code, response\u001b[38;5;241m=\u001b[39mresponse, error_map\u001b[38;5;241m=\u001b[39merror_map)\n\u001b[0;32m   1269\u001b[0m     error \u001b[38;5;241m=\u001b[39m \u001b[38;5;28mself\u001b[39m\u001b[38;5;241m.\u001b[39m_deserialize\u001b[38;5;241m.\u001b[39mfailsafe_deserialize(_models\u001b[38;5;241m.\u001b[39mSearchError, pipeline_response)\n\u001b[1;32m-> 1270\u001b[0m     \u001b[38;5;28;01mraise\u001b[39;00m HttpResponseError(response\u001b[38;5;241m=\u001b[39mresponse, model\u001b[38;5;241m=\u001b[39merror)\n\u001b[0;32m   1272\u001b[0m \u001b[38;5;28;01mif\u001b[39;00m response\u001b[38;5;241m.\u001b[39mstatus_code \u001b[38;5;241m==\u001b[39m \u001b[38;5;241m200\u001b[39m:\n\u001b[0;32m   1273\u001b[0m     deserialized \u001b[38;5;241m=\u001b[39m \u001b[38;5;28mself\u001b[39m\u001b[38;5;241m.\u001b[39m_deserialize(\u001b[38;5;124m\"\u001b[39m\u001b[38;5;124mIndexDocumentsResult\u001b[39m\u001b[38;5;124m\"\u001b[39m, pipeline_response)\n",
            "\u001b[1;31mHttpResponseError\u001b[0m: (OperationNotAllowed) The request is invalid. Details: actions : 0: There's a mismatch in vector dimensions. The vector field 'tagline_vector', with dimension of '1536', expects a length of '1536'. However, the provided vector has a length of '3072'. Please ensure that the vector length matches the expected length of the vector field. Read the following documentation for more details: https://learn.microsoft.com/en-us/azure/search/vector-search-how-to-configure-compression-storage. 1: There's a mismatch in vector dimensions. The vector field 'tagline_vector', with dimension of '1536', expects a length of '1536'. However, the provided vector has a length of '3072'. Please ensure that the vector length matches the expected length of the vector field. Read the following documentation for more details: https://learn.microsoft.com/en-us/azure/search/vector-search-how-to-configure-compression-storage. 2: There's a mismatch in vector dimensions. The vector field 'tagline_vector', with dimension of '1536', expects a length of '1536'. However, the provided vector has a length of '3072'. Please ensure that the vector length matches the expected length of the vector field. Read the following documentation for more details: https://learn.microsoft.com/en-us/azure/search/vector-search-how-to-configure-compression-storage. 3: There's a mismatch in vector dimensions. The vector field 'tagline_vector', with dimension of '1536', expects a length of '1536'. However, the provided vector has a length of '3072'. Please ensure that the vector length matches the expected length of the vector field. Read the following documentation for more details: https://learn.microsoft.com/en-us/azure/search/vector-search-how-to-configure-compression-storage. 4: There's a mismatch in vector dimensions. The vector field 'tagline_vector', with dimension of '1536', expects a length of '1536'. However, the provided vector has a length of '3072'. Please ensure that the vector length matches the expected length of the vector field. Read the following documentation for more details: https://learn.microsoft.com/en-us/azure/search/vector-search-how-to-configure-compression-storage. 5: There's a mismatch in vector dimensions. The vector field 'tagline_vector', with dimension of '1536', expects a length of '1536'. However, the provided vector has a length of '3072'. Please ensure that the vector length matches the expected length of the vector field. Read the following documentation for more details: https://learn.microsoft.com/en-us/azure/search/vector-search-how-to-configure-compression-storage. 6: There's a mismatch in vector dimensions. The vector field 'tagline_vector', with dimension of '1536', expects a length of '1536'. However, the provided vector has a length of '3072'. Please ensure that the vector length matches the expected length of the vector field. Read the following documentation for more details: https://learn.microsoft.com/en-us/azure/search/vector-search-how-to-configure-compression-storage. 7: There's a mismatch in vector dimensions. The vector field 'tagline_vector', with dimension of '1536', expects a length of '1536'. However, the provided vector has a length of '3072'. Please ensure that the vector length matches the expected length of the vector field. Read the following documentation for more details: https://learn.microsoft.com/en-us/azure/search/vector-search-how-to-configure-compression-storage. 8: There's a mismatch in vector dimensions. The vector field 'tagline_vector', with dimension of '1536', expects a length of '1536'. However, the provided vector has a length of '3072'. Please ensure that the vector length matches the expected length of the vector field. Read the following documentation for more details: https://learn.microsoft.com/en-us/azure/search/vector-search-how-to-configure-compression-storage. 9: There's a mismatch in vector dimensions. The vector field 'tagline_vector', with dimension of '1536', expects a length of '1536'. However, the provided vector has a length of '3072'. Please ensure that the vector length matches the expected length of the vector field. Read the following documentation for more details: https://learn.microsoft.com/en-us/azure/search/vector-search-how-to-configure-compression-storage. 10: There's a mismatch in vector dimensions. The vector field 'tagline_vector', with dimension of '1536', expects a length of '1536'. However, the provided vector has a length of '3072'. Please ensure that the vector length matches the expected length of the vector field. Read the following documentation for more details: https://learn.microsoft.com/en-us/azure/search/vector-search-how-to-configure-compression-storage. 11: There's a mismatch in vector dimensions. The vector field 'tagline_vector', with dimension of '1536', expects a length of '1536'. However, the provided vector has a length of '3072'. Please ensure that the vector length matches the expected length of the vector field. Read the following documentation for more details: https://learn.microsoft.com/en-us/azure/search/vector-search-how-to-configure-compression-storage. 12: There's a mismatch in vector dimensions. The vector field 'tagline_vector', with dimension of '1536', expects a length of '1536'. However, the provided vector has a length of '3072'. Please ensure that the vector length matches the expected length of the vector field. Read the following documentation for more details: https://learn.microsoft.com/en-us/azure/search/vector-search-how-to-configure-compression-storage. 13: There's a mismatch in vector dimensions. The vector field 'tagline_vector', with dimension of '1536', expects a length of '1536'. However, the provided vector has a length of '3072'. Please ensure that the vector length matches the expected length of the vector field. Read the following documentation for more details: https://learn.microsoft.com/en-us/azure/search/vector-search-how-to-configure-compression-storage. 14: There's a mismatch in vector dimensions. The vector field 'tagline_vector', with dimension of '1536', expects a length of '1536'. However, the provided vector has a length of '3072'. Please ensure that the vector length matches the expected length of the vector field. Read the following documentation for more details: https://learn.microsoft.com/en-us/azure/search/vector-search-how-to-configure-compression-storage. 15: There's a mismatch in vector dimensions. The vector field 'tagline_vector', with dimension of '1536', expects a length of '1536'. However, the provided vector has a length of '3072'. Please ensure that the vector length matches the expected length of the vector field. Read the following documentation for more details: https://learn.microsoft.com/en-us/azure/search/vector-search-how-to-configure-compression-storage. 16: There's a mismatch in vector dimensions. The vector field 'tagline_vector', with dimension of '1536', expects a length of '1536'. However, the provided vector has a length of '3072'. Please ensure that the vector length matches the expected length of the vector field. Read the following documentation for more details: https://learn.microsoft.com/en-us/azure/search/vector-search-how-to-configure-compression-storage. 17: There's a mismatch in vector dimensions. The vector field 'tagline_vector', with dimension of '1536', expects a length of '1536'. However, the provided vector has a length of '3072'. Please ensure that the vector length matches the expected length of the vector field. Read the following documentation for more details: https://learn.microsoft.com/en-us/azure/search/vector-search-how-to-configure-compression-storage. 18: There's a mismatch in vector dimensions. The vector field 'tagline_vector', with dimension of '1536', expects a length of '1536'. However, the provided vector has a length of '3072'. Please ensure that the vector length matches the expected length of the vector field. Read the following documentation for more details: https://learn.microsoft.com/en-us/azure/search/vector-search-how-to-configure-compression-storage.\nCode: OperationNotAllowed\nMessage: The request is invalid. Details: actions : 0: There's a mismatch in vector dimensions. The vector field 'tagline_vector', with dimension of '1536', expects a length of '1536'. However, the provided vector has a length of '3072'. Please ensure that the vector length matches the expected length of the vector field. Read the following documentation for more details: https://learn.microsoft.com/en-us/azure/search/vector-search-how-to-configure-compression-storage. 1: There's a mismatch in vector dimensions. The vector field 'tagline_vector', with dimension of '1536', expects a length of '1536'. However, the provided vector has a length of '3072'. Please ensure that the vector length matches the expected length of the vector field. Read the following documentation for more details: https://learn.microsoft.com/en-us/azure/search/vector-search-how-to-configure-compression-storage. 2: There's a mismatch in vector dimensions. The vector field 'tagline_vector', with dimension of '1536', expects a length of '1536'. However, the provided vector has a length of '3072'. Please ensure that the vector length matches the expected length of the vector field. Read the following documentation for more details: https://learn.microsoft.com/en-us/azure/search/vector-search-how-to-configure-compression-storage. 3: There's a mismatch in vector dimensions. The vector field 'tagline_vector', with dimension of '1536', expects a length of '1536'. However, the provided vector has a length of '3072'. Please ensure that the vector length matches the expected length of the vector field. Read the following documentation for more details: https://learn.microsoft.com/en-us/azure/search/vector-search-how-to-configure-compression-storage. 4: There's a mismatch in vector dimensions. The vector field 'tagline_vector', with dimension of '1536', expects a length of '1536'. However, the provided vector has a length of '3072'. Please ensure that the vector length matches the expected length of the vector field. Read the following documentation for more details: https://learn.microsoft.com/en-us/azure/search/vector-search-how-to-configure-compression-storage. 5: There's a mismatch in vector dimensions. The vector field 'tagline_vector', with dimension of '1536', expects a length of '1536'. However, the provided vector has a length of '3072'. Please ensure that the vector length matches the expected length of the vector field. Read the following documentation for more details: https://learn.microsoft.com/en-us/azure/search/vector-search-how-to-configure-compression-storage. 6: There's a mismatch in vector dimensions. The vector field 'tagline_vector', with dimension of '1536', expects a length of '1536'. However, the provided vector has a length of '3072'. Please ensure that the vector length matches the expected length of the vector field. Read the following documentation for more details: https://learn.microsoft.com/en-us/azure/search/vector-search-how-to-configure-compression-storage. 7: There's a mismatch in vector dimensions. The vector field 'tagline_vector', with dimension of '1536', expects a length of '1536'. However, the provided vector has a length of '3072'. Please ensure that the vector length matches the expected length of the vector field. Read the following documentation for more details: https://learn.microsoft.com/en-us/azure/search/vector-search-how-to-configure-compression-storage. 8: There's a mismatch in vector dimensions. The vector field 'tagline_vector', with dimension of '1536', expects a length of '1536'. However, the provided vector has a length of '3072'. Please ensure that the vector length matches the expected length of the vector field. Read the following documentation for more details: https://learn.microsoft.com/en-us/azure/search/vector-search-how-to-configure-compression-storage. 9: There's a mismatch in vector dimensions. The vector field 'tagline_vector', with dimension of '1536', expects a length of '1536'. However, the provided vector has a length of '3072'. Please ensure that the vector length matches the expected length of the vector field. Read the following documentation for more details: https://learn.microsoft.com/en-us/azure/search/vector-search-how-to-configure-compression-storage. 10: There's a mismatch in vector dimensions. The vector field 'tagline_vector', with dimension of '1536', expects a length of '1536'. However, the provided vector has a length of '3072'. Please ensure that the vector length matches the expected length of the vector field. Read the following documentation for more details: https://learn.microsoft.com/en-us/azure/search/vector-search-how-to-configure-compression-storage. 11: There's a mismatch in vector dimensions. The vector field 'tagline_vector', with dimension of '1536', expects a length of '1536'. However, the provided vector has a length of '3072'. Please ensure that the vector length matches the expected length of the vector field. Read the following documentation for more details: https://learn.microsoft.com/en-us/azure/search/vector-search-how-to-configure-compression-storage. 12: There's a mismatch in vector dimensions. The vector field 'tagline_vector', with dimension of '1536', expects a length of '1536'. However, the provided vector has a length of '3072'. Please ensure that the vector length matches the expected length of the vector field. Read the following documentation for more details: https://learn.microsoft.com/en-us/azure/search/vector-search-how-to-configure-compression-storage. 13: There's a mismatch in vector dimensions. The vector field 'tagline_vector', with dimension of '1536', expects a length of '1536'. However, the provided vector has a length of '3072'. Please ensure that the vector length matches the expected length of the vector field. Read the following documentation for more details: https://learn.microsoft.com/en-us/azure/search/vector-search-how-to-configure-compression-storage. 14: There's a mismatch in vector dimensions. The vector field 'tagline_vector', with dimension of '1536', expects a length of '1536'. However, the provided vector has a length of '3072'. Please ensure that the vector length matches the expected length of the vector field. Read the following documentation for more details: https://learn.microsoft.com/en-us/azure/search/vector-search-how-to-configure-compression-storage. 15: There's a mismatch in vector dimensions. The vector field 'tagline_vector', with dimension of '1536', expects a length of '1536'. However, the provided vector has a length of '3072'. Please ensure that the vector length matches the expected length of the vector field. Read the following documentation for more details: https://learn.microsoft.com/en-us/azure/search/vector-search-how-to-configure-compression-storage. 16: There's a mismatch in vector dimensions. The vector field 'tagline_vector', with dimension of '1536', expects a length of '1536'. However, the provided vector has a length of '3072'. Please ensure that the vector length matches the expected length of the vector field. Read the following documentation for more details: https://learn.microsoft.com/en-us/azure/search/vector-search-how-to-configure-compression-storage. 17: There's a mismatch in vector dimensions. The vector field 'tagline_vector', with dimension of '1536', expects a length of '1536'. However, the provided vector has a length of '3072'. Please ensure that the vector length matches the expected length of the vector field. Read the following documentation for more details: https://learn.microsoft.com/en-us/azure/search/vector-search-how-to-configure-compression-storage. 18: There's a mismatch in vector dimensions. The vector field 'tagline_vector', with dimension of '1536', expects a length of '1536'. However, the provided vector has a length of '3072'. Please ensure that the vector length matches the expected length of the vector field. Read the following documentation for more details: https://learn.microsoft.com/en-us/azure/search/vector-search-how-to-configure-compression-storage.\nException Details:\t(IndexDocumentsFieldError) 0: There's a mismatch in vector dimensions. The vector field 'tagline_vector', with dimension of '1536', expects a length of '1536'. However, the provided vector has a length of '3072'. Please ensure that the vector length matches the expected length of the vector field. Read the following documentation for more details: https://learn.microsoft.com/en-us/azure/search/vector-search-how-to-configure-compression-storage. Parameters: actions\n\tCode: IndexDocumentsFieldError\n\tMessage: 0: There's a mismatch in vector dimensions. The vector field 'tagline_vector', with dimension of '1536', expects a length of '1536'. However, the provided vector has a length of '3072'. Please ensure that the vector length matches the expected length of the vector field. Read the following documentation for more details: https://learn.microsoft.com/en-us/azure/search/vector-search-how-to-configure-compression-storage. Parameters: actions\t(IndexDocumentsFieldError) 1: There's a mismatch in vector dimensions. The vector field 'tagline_vector', with dimension of '1536', expects a length of '1536'. However, the provided vector has a length of '3072'. Please ensure that the vector length matches the expected length of the vector field. Read the following documentation for more details: https://learn.microsoft.com/en-us/azure/search/vector-search-how-to-configure-compression-storage.\n\tCode: IndexDocumentsFieldError\n\tMessage: 1: There's a mismatch in vector dimensions. The vector field 'tagline_vector', with dimension of '1536', expects a length of '1536'. However, the provided vector has a length of '3072'. Please ensure that the vector length matches the expected length of the vector field. Read the following documentation for more details: https://learn.microsoft.com/en-us/azure/search/vector-search-how-to-configure-compression-storage.\t(IndexDocumentsFieldError) 2: There's a mismatch in vector dimensions. The vector field 'tagline_vector', with dimension of '1536', expects a length of '1536'. However, the provided vector has a length of '3072'. Please ensure that the vector length matches the expected length of the vector field. Read the following documentation for more details: https://learn.microsoft.com/en-us/azure/search/vector-search-how-to-configure-compression-storage.\n\tCode: IndexDocumentsFieldError\n\tMessage: 2: There's a mismatch in vector dimensions. The vector field 'tagline_vector', with dimension of '1536', expects a length of '1536'. However, the provided vector has a length of '3072'. Please ensure that the vector length matches the expected length of the vector field. Read the following documentation for more details: https://learn.microsoft.com/en-us/azure/search/vector-search-how-to-configure-compression-storage.\t(IndexDocumentsFieldError) 3: There's a mismatch in vector dimensions. The vector field 'tagline_vector', with dimension of '1536', expects a length of '1536'. However, the provided vector has a length of '3072'. Please ensure that the vector length matches the expected length of the vector field. Read the following documentation for more details: https://learn.microsoft.com/en-us/azure/search/vector-search-how-to-configure-compression-storage.\n\tCode: IndexDocumentsFieldError\n\tMessage: 3: There's a mismatch in vector dimensions. The vector field 'tagline_vector', with dimension of '1536', expects a length of '1536'. However, the provided vector has a length of '3072'. Please ensure that the vector length matches the expected length of the vector field. Read the following documentation for more details: https://learn.microsoft.com/en-us/azure/search/vector-search-how-to-configure-compression-storage.\t(IndexDocumentsFieldError) 4: There's a mismatch in vector dimensions. The vector field 'tagline_vector', with dimension of '1536', expects a length of '1536'. However, the provided vector has a length of '3072'. Please ensure that the vector length matches the expected length of the vector field. Read the following documentation for more details: https://learn.microsoft.com/en-us/azure/search/vector-search-how-to-configure-compression-storage.\n\tCode: IndexDocumentsFieldError\n\tMessage: 4: There's a mismatch in vector dimensions. The vector field 'tagline_vector', with dimension of '1536', expects a length of '1536'. However, the provided vector has a length of '3072'. Please ensure that the vector length matches the expected length of the vector field. Read the following documentation for more details: https://learn.microsoft.com/en-us/azure/search/vector-search-how-to-configure-compression-storage.\t(IndexDocumentsFieldError) 5: There's a mismatch in vector dimensions. The vector field 'tagline_vector', with dimension of '1536', expects a length of '1536'. However, the provided vector has a length of '3072'. Please ensure that the vector length matches the expected length of the vector field. Read the following documentation for more details: https://learn.microsoft.com/en-us/azure/search/vector-search-how-to-configure-compression-storage.\n\tCode: IndexDocumentsFieldError\n\tMessage: 5: There's a mismatch in vector dimensions. The vector field 'tagline_vector', with dimension of '1536', expects a length of '1536'. However, the provided vector has a length of '3072'. Please ensure that the vector length matches the expected length of the vector field. Read the following documentation for more details: https://learn.microsoft.com/en-us/azure/search/vector-search-how-to-configure-compression-storage.\t(IndexDocumentsFieldError) 6: There's a mismatch in vector dimensions. The vector field 'tagline_vector', with dimension of '1536', expects a length of '1536'. However, the provided vector has a length of '3072'. Please ensure that the vector length matches the expected length of the vector field. Read the following documentation for more details: https://learn.microsoft.com/en-us/azure/search/vector-search-how-to-configure-compression-storage.\n\tCode: IndexDocumentsFieldError\n\tMessage: 6: There's a mismatch in vector dimensions. The vector field 'tagline_vector', with dimension of '1536', expects a length of '1536'. However, the provided vector has a length of '3072'. Please ensure that the vector length matches the expected length of the vector field. Read the following documentation for more details: https://learn.microsoft.com/en-us/azure/search/vector-search-how-to-configure-compression-storage.\t(IndexDocumentsFieldError) 7: There's a mismatch in vector dimensions. The vector field 'tagline_vector', with dimension of '1536', expects a length of '1536'. However, the provided vector has a length of '3072'. Please ensure that the vector length matches the expected length of the vector field. Read the following documentation for more details: https://learn.microsoft.com/en-us/azure/search/vector-search-how-to-configure-compression-storage.\n\tCode: IndexDocumentsFieldError\n\tMessage: 7: There's a mismatch in vector dimensions. The vector field 'tagline_vector', with dimension of '1536', expects a length of '1536'. However, the provided vector has a length of '3072'. Please ensure that the vector length matches the expected length of the vector field. Read the following documentation for more details: https://learn.microsoft.com/en-us/azure/search/vector-search-how-to-configure-compression-storage.\t(IndexDocumentsFieldError) 8: There's a mismatch in vector dimensions. The vector field 'tagline_vector', with dimension of '1536', expects a length of '1536'. However, the provided vector has a length of '3072'. Please ensure that the vector length matches the expected length of the vector field. Read the following documentation for more details: https://learn.microsoft.com/en-us/azure/search/vector-search-how-to-configure-compression-storage.\n\tCode: IndexDocumentsFieldError\n\tMessage: 8: There's a mismatch in vector dimensions. The vector field 'tagline_vector', with dimension of '1536', expects a length of '1536'. However, the provided vector has a length of '3072'. Please ensure that the vector length matches the expected length of the vector field. Read the following documentation for more details: https://learn.microsoft.com/en-us/azure/search/vector-search-how-to-configure-compression-storage.\t(IndexDocumentsFieldError) 9: There's a mismatch in vector dimensions. The vector field 'tagline_vector', with dimension of '1536', expects a length of '1536'. However, the provided vector has a length of '3072'. Please ensure that the vector length matches the expected length of the vector field. Read the following documentation for more details: https://learn.microsoft.com/en-us/azure/search/vector-search-how-to-configure-compression-storage.\n\tCode: IndexDocumentsFieldError\n\tMessage: 9: There's a mismatch in vector dimensions. The vector field 'tagline_vector', with dimension of '1536', expects a length of '1536'. However, the provided vector has a length of '3072'. Please ensure that the vector length matches the expected length of the vector field. Read the following documentation for more details: https://learn.microsoft.com/en-us/azure/search/vector-search-how-to-configure-compression-storage.\t(IndexDocumentsFieldError) 10: There's a mismatch in vector dimensions. The vector field 'tagline_vector', with dimension of '1536', expects a length of '1536'. However, the provided vector has a length of '3072'. Please ensure that the vector length matches the expected length of the vector field. Read the following documentation for more details: https://learn.microsoft.com/en-us/azure/search/vector-search-how-to-configure-compression-storage.\n\tCode: IndexDocumentsFieldError\n\tMessage: 10: There's a mismatch in vector dimensions. The vector field 'tagline_vector', with dimension of '1536', expects a length of '1536'. However, the provided vector has a length of '3072'. Please ensure that the vector length matches the expected length of the vector field. Read the following documentation for more details: https://learn.microsoft.com/en-us/azure/search/vector-search-how-to-configure-compression-storage.\t(IndexDocumentsFieldError) 11: There's a mismatch in vector dimensions. The vector field 'tagline_vector', with dimension of '1536', expects a length of '1536'. However, the provided vector has a length of '3072'. Please ensure that the vector length matches the expected length of the vector field. Read the following documentation for more details: https://learn.microsoft.com/en-us/azure/search/vector-search-how-to-configure-compression-storage.\n\tCode: IndexDocumentsFieldError\n\tMessage: 11: There's a mismatch in vector dimensions. The vector field 'tagline_vector', with dimension of '1536', expects a length of '1536'. However, the provided vector has a length of '3072'. Please ensure that the vector length matches the expected length of the vector field. Read the following documentation for more details: https://learn.microsoft.com/en-us/azure/search/vector-search-how-to-configure-compression-storage.\t(IndexDocumentsFieldError) 12: There's a mismatch in vector dimensions. The vector field 'tagline_vector', with dimension of '1536', expects a length of '1536'. However, the provided vector has a length of '3072'. Please ensure that the vector length matches the expected length of the vector field. Read the following documentation for more details: https://learn.microsoft.com/en-us/azure/search/vector-search-how-to-configure-compression-storage.\n\tCode: IndexDocumentsFieldError\n\tMessage: 12: There's a mismatch in vector dimensions. The vector field 'tagline_vector', with dimension of '1536', expects a length of '1536'. However, the provided vector has a length of '3072'. Please ensure that the vector length matches the expected length of the vector field. Read the following documentation for more details: https://learn.microsoft.com/en-us/azure/search/vector-search-how-to-configure-compression-storage.\t(IndexDocumentsFieldError) 13: There's a mismatch in vector dimensions. The vector field 'tagline_vector', with dimension of '1536', expects a length of '1536'. However, the provided vector has a length of '3072'. Please ensure that the vector length matches the expected length of the vector field. Read the following documentation for more details: https://learn.microsoft.com/en-us/azure/search/vector-search-how-to-configure-compression-storage.\n\tCode: IndexDocumentsFieldError\n\tMessage: 13: There's a mismatch in vector dimensions. The vector field 'tagline_vector', with dimension of '1536', expects a length of '1536'. However, the provided vector has a length of '3072'. Please ensure that the vector length matches the expected length of the vector field. Read the following documentation for more details: https://learn.microsoft.com/en-us/azure/search/vector-search-how-to-configure-compression-storage.\t(IndexDocumentsFieldError) 14: There's a mismatch in vector dimensions. The vector field 'tagline_vector', with dimension of '1536', expects a length of '1536'. However, the provided vector has a length of '3072'. Please ensure that the vector length matches the expected length of the vector field. Read the following documentation for more details: https://learn.microsoft.com/en-us/azure/search/vector-search-how-to-configure-compression-storage.\n\tCode: IndexDocumentsFieldError\n\tMessage: 14: There's a mismatch in vector dimensions. The vector field 'tagline_vector', with dimension of '1536', expects a length of '1536'. However, the provided vector has a length of '3072'. Please ensure that the vector length matches the expected length of the vector field. Read the following documentation for more details: https://learn.microsoft.com/en-us/azure/search/vector-search-how-to-configure-compression-storage.\t(IndexDocumentsFieldError) 15: There's a mismatch in vector dimensions. The vector field 'tagline_vector', with dimension of '1536', expects a length of '1536'. However, the provided vector has a length of '3072'. Please ensure that the vector length matches the expected length of the vector field. Read the following documentation for more details: https://learn.microsoft.com/en-us/azure/search/vector-search-how-to-configure-compression-storage.\n\tCode: IndexDocumentsFieldError\n\tMessage: 15: There's a mismatch in vector dimensions. The vector field 'tagline_vector', with dimension of '1536', expects a length of '1536'. However, the provided vector has a length of '3072'. Please ensure that the vector length matches the expected length of the vector field. Read the following documentation for more details: https://learn.microsoft.com/en-us/azure/search/vector-search-how-to-configure-compression-storage.\t(IndexDocumentsFieldError) 16: There's a mismatch in vector dimensions. The vector field 'tagline_vector', with dimension of '1536', expects a length of '1536'. However, the provided vector has a length of '3072'. Please ensure that the vector length matches the expected length of the vector field. Read the following documentation for more details: https://learn.microsoft.com/en-us/azure/search/vector-search-how-to-configure-compression-storage.\n\tCode: IndexDocumentsFieldError\n\tMessage: 16: There's a mismatch in vector dimensions. The vector field 'tagline_vector', with dimension of '1536', expects a length of '1536'. However, the provided vector has a length of '3072'. Please ensure that the vector length matches the expected length of the vector field. Read the following documentation for more details: https://learn.microsoft.com/en-us/azure/search/vector-search-how-to-configure-compression-storage.\t(IndexDocumentsFieldError) 17: There's a mismatch in vector dimensions. The vector field 'tagline_vector', with dimension of '1536', expects a length of '1536'. However, the provided vector has a length of '3072'. Please ensure that the vector length matches the expected length of the vector field. Read the following documentation for more details: https://learn.microsoft.com/en-us/azure/search/vector-search-how-to-configure-compression-storage.\n\tCode: IndexDocumentsFieldError\n\tMessage: 17: There's a mismatch in vector dimensions. The vector field 'tagline_vector', with dimension of '1536', expects a length of '1536'. However, the provided vector has a length of '3072'. Please ensure that the vector length matches the expected length of the vector field. Read the following documentation for more details: https://learn.microsoft.com/en-us/azure/search/vector-search-how-to-configure-compression-storage.\t(IndexDocumentsFieldError) 18: There's a mismatch in vector dimensions. The vector field 'tagline_vector', with dimension of '1536', expects a length of '1536'. However, the provided vector has a length of '3072'. Please ensure that the vector length matches the expected length of the vector field. Read the following documentation for more details: https://learn.microsoft.com/en-us/azure/search/vector-search-how-to-configure-compression-storage.\n\tCode: IndexDocumentsFieldError\n\tMessage: 18: There's a mismatch in vector dimensions. The vector field 'tagline_vector', with dimension of '1536', expects a length of '1536'. However, the provided vector has a length of '3072'. Please ensure that the vector length matches the expected length of the vector field. Read the following documentation for more details: https://learn.microsoft.com/en-us/azure/search/vector-search-how-to-configure-compression-storage."
          ]
        }
      ],
      "source": [
        "# Upload documents to the index\n",
        "with open(\"./data/product-catalog-vectors.json\", 'r') as file:  \n",
        "    documents = json.load(file)  \n",
        "search_client = SearchClient(endpoint=service_endpoint, index_name=index_name, credential=credential)\n",
        "result = search_client.upload_documents(documents)  \n",
        "print(f\"Uploaded {len(documents)} documents\") "
      ]
    },
    {
      "cell_type": "markdown",
      "metadata": {
        "nteract": {
          "transient": {
            "deleting": false
          }
        }
      },
      "source": [
        "## Perform Test Queries\n",
        "We are performing a few test queries against the Cognitive Search index. If successful, it should display outdoor product information and images."
      ]
    },
    {
      "cell_type": "code",
      "execution_count": 34,
      "metadata": {
        "gather": {
          "logged": 1699873173581
        }
      },
      "outputs": [],
      "source": [
        "search_client = SearchClient(service_endpoint, index_name, credential=credential)  \n",
        "fields_of_interest = [\"id\", \"name\", \"tagline\", \"description\", \"original_price\", \"special_offer\", \"category\", \"product_image_file\"]"
      ]
    },
    {
      "cell_type": "code",
      "execution_count": 35,
      "metadata": {
        "gather": {
          "logged": 1699873175487
        }
      },
      "outputs": [
        {
          "ename": "HttpResponseError",
          "evalue": "(InvalidRequestParameter) There's a mismatch in vector dimensions. The vector field 'description_vector', with dimension of '1536', expects a length of '1536'. However, the provided vector has a length of '3072'. Please ensure that the vector length matches the expected length of the vector field. Read the following documentation for more details: https://learn.microsoft.com/en-us/azure/search/vector-search-how-to-configure-compression-storage.\r\nParameter name: vector.fields\nCode: InvalidRequestParameter\nMessage: There's a mismatch in vector dimensions. The vector field 'description_vector', with dimension of '1536', expects a length of '1536'. However, the provided vector has a length of '3072'. Please ensure that the vector length matches the expected length of the vector field. Read the following documentation for more details: https://learn.microsoft.com/en-us/azure/search/vector-search-how-to-configure-compression-storage.\r\nParameter name: vector.fields\nException Details:\t(InvalidVectorQuery) There's a mismatch in vector dimensions. The vector field 'description_vector', with dimension of '1536', expects a length of '1536'. However, the provided vector has a length of '3072'. Please ensure that the vector length matches the expected length of the vector field. Read the following documentation for more details: https://learn.microsoft.com/en-us/azure/search/vector-search-how-to-configure-compression-storage.\n\tCode: InvalidVectorQuery\n\tMessage: There's a mismatch in vector dimensions. The vector field 'description_vector', with dimension of '1536', expects a length of '1536'. However, the provided vector has a length of '3072'. Please ensure that the vector length matches the expected length of the vector field. Read the following documentation for more details: https://learn.microsoft.com/en-us/azure/search/vector-search-how-to-configure-compression-storage.",
          "output_type": "error",
          "traceback": [
            "\u001b[1;31m---------------------------------------------------------------------------\u001b[0m",
            "\u001b[1;31mHttpResponseError\u001b[0m                         Traceback (most recent call last)",
            "Cell \u001b[1;32mIn[35], line 47\u001b[0m\n\u001b[0;32m     37\u001b[0m query \u001b[38;5;241m=\u001b[39m \u001b[38;5;124m\"\u001b[39m\u001b[38;5;124mtent for two people\u001b[39m\u001b[38;5;124m\"\u001b[39m  \n\u001b[0;32m     39\u001b[0m results \u001b[38;5;241m=\u001b[39m search_client\u001b[38;5;241m.\u001b[39msearch(  \n\u001b[0;32m     40\u001b[0m     search_text\u001b[38;5;241m=\u001b[39m\u001b[38;5;28;01mNone\u001b[39;00m,  \n\u001b[0;32m     41\u001b[0m     vector\u001b[38;5;241m=\u001b[39mgenerate_embeddings(query), top_k\u001b[38;5;241m=\u001b[39m\u001b[38;5;241m3\u001b[39m,  \n\u001b[1;32m   (...)\u001b[0m\n\u001b[0;32m     44\u001b[0m     select\u001b[38;5;241m=\u001b[39m fields_of_interest\n\u001b[0;32m     45\u001b[0m )  \n\u001b[1;32m---> 47\u001b[0m \u001b[43mprint_results\u001b[49m\u001b[43m(\u001b[49m\u001b[43mresults\u001b[49m\u001b[43m)\u001b[49m\n",
            "Cell \u001b[1;32mIn[35], line 24\u001b[0m, in \u001b[0;36mprint_results\u001b[1;34m(results)\u001b[0m\n\u001b[0;32m     23\u001b[0m \u001b[38;5;28;01mdef\u001b[39;00m \u001b[38;5;21mprint_results\u001b[39m(results):  \n\u001b[1;32m---> 24\u001b[0m \u001b[43m  \u001b[49m\u001b[38;5;28;43;01mfor\u001b[39;49;00m\u001b[43m \u001b[49m\u001b[43mresult\u001b[49m\u001b[43m \u001b[49m\u001b[38;5;129;43;01min\u001b[39;49;00m\u001b[43m \u001b[49m\u001b[43mresults\u001b[49m\u001b[43m:\u001b[49m\u001b[43m  \u001b[49m\n\u001b[0;32m     25\u001b[0m \u001b[43m    \u001b[49m\u001b[38;5;28;43mprint\u001b[39;49m\u001b[43m(\u001b[49m\u001b[38;5;124;43mf\u001b[39;49m\u001b[38;5;124;43m\"\u001b[39;49m\u001b[38;5;124;43mScore: \u001b[39;49m\u001b[38;5;132;43;01m{\u001b[39;49;00m\u001b[43mresult\u001b[49m\u001b[43m[\u001b[49m\u001b[38;5;124;43m'\u001b[39;49m\u001b[38;5;124;43m@search.score\u001b[39;49m\u001b[38;5;124;43m'\u001b[39;49m\u001b[43m]\u001b[49m\u001b[38;5;132;43;01m}\u001b[39;49;00m\u001b[38;5;124;43m\"\u001b[39;49m\u001b[43m)\u001b[49m\n\u001b[0;32m     26\u001b[0m \u001b[43m    \u001b[49m\u001b[38;5;28;43mprint\u001b[39;49m\u001b[43m(\u001b[49m\u001b[38;5;124;43mf\u001b[39;49m\u001b[38;5;124;43m\"\u001b[39;49m\u001b[38;5;124;43mName: \u001b[39;49m\u001b[38;5;132;43;01m{\u001b[39;49;00m\u001b[43mresult\u001b[49m\u001b[43m[\u001b[49m\u001b[38;5;124;43m'\u001b[39;49m\u001b[38;5;124;43mname\u001b[39;49m\u001b[38;5;124;43m'\u001b[39;49m\u001b[43m]\u001b[49m\u001b[38;5;132;43;01m}\u001b[39;49;00m\u001b[38;5;124;43m\"\u001b[39;49m\u001b[43m)\u001b[49m\u001b[43m  \u001b[49m\n",
            "File \u001b[1;32mc:\\Users\\aalatval\\AppData\\Local\\Programs\\Python\\Python311\\Lib\\site-packages\\azure\\search\\documents\\_paging.py:54\u001b[0m, in \u001b[0;36mSearchItemPaged.__next__\u001b[1;34m(self)\u001b[0m\n\u001b[0;32m     52\u001b[0m     first_iterator \u001b[38;5;241m=\u001b[39m \u001b[38;5;28mself\u001b[39m\u001b[38;5;241m.\u001b[39m_first_iterator_instance()\n\u001b[0;32m     53\u001b[0m     \u001b[38;5;28mself\u001b[39m\u001b[38;5;241m.\u001b[39m_page_iterator \u001b[38;5;241m=\u001b[39m itertools\u001b[38;5;241m.\u001b[39mchain\u001b[38;5;241m.\u001b[39mfrom_iterable(first_iterator)\n\u001b[1;32m---> 54\u001b[0m \u001b[38;5;28;01mreturn\u001b[39;00m \u001b[38;5;28;43mnext\u001b[39;49m\u001b[43m(\u001b[49m\u001b[38;5;28;43mself\u001b[39;49m\u001b[38;5;241;43m.\u001b[39;49m\u001b[43m_page_iterator\u001b[49m\u001b[43m)\u001b[49m\n",
            "File \u001b[1;32mc:\\Users\\aalatval\\AppData\\Local\\Programs\\Python\\Python311\\Lib\\site-packages\\azure\\core\\paging.py:75\u001b[0m, in \u001b[0;36mPageIterator.__next__\u001b[1;34m(self)\u001b[0m\n\u001b[0;32m     73\u001b[0m     \u001b[38;5;28;01mraise\u001b[39;00m \u001b[38;5;167;01mStopIteration\u001b[39;00m(\u001b[38;5;124m\"\u001b[39m\u001b[38;5;124mEnd of paging\u001b[39m\u001b[38;5;124m\"\u001b[39m)\n\u001b[0;32m     74\u001b[0m \u001b[38;5;28;01mtry\u001b[39;00m:\n\u001b[1;32m---> 75\u001b[0m     \u001b[38;5;28mself\u001b[39m\u001b[38;5;241m.\u001b[39m_response \u001b[38;5;241m=\u001b[39m \u001b[38;5;28;43mself\u001b[39;49m\u001b[38;5;241;43m.\u001b[39;49m\u001b[43m_get_next\u001b[49m\u001b[43m(\u001b[49m\u001b[38;5;28;43mself\u001b[39;49m\u001b[38;5;241;43m.\u001b[39;49m\u001b[43mcontinuation_token\u001b[49m\u001b[43m)\u001b[49m\n\u001b[0;32m     76\u001b[0m \u001b[38;5;28;01mexcept\u001b[39;00m AzureError \u001b[38;5;28;01mas\u001b[39;00m error:\n\u001b[0;32m     77\u001b[0m     \u001b[38;5;28;01mif\u001b[39;00m \u001b[38;5;129;01mnot\u001b[39;00m error\u001b[38;5;241m.\u001b[39mcontinuation_token:\n",
            "File \u001b[1;32mc:\\Users\\aalatval\\AppData\\Local\\Programs\\Python\\Python311\\Lib\\site-packages\\azure\\search\\documents\\_paging.py:124\u001b[0m, in \u001b[0;36mSearchPageIterator._get_next_cb\u001b[1;34m(self, continuation_token)\u001b[0m\n\u001b[0;32m    122\u001b[0m \u001b[38;5;28;01mdef\u001b[39;00m \u001b[38;5;21m_get_next_cb\u001b[39m(\u001b[38;5;28mself\u001b[39m, continuation_token):\n\u001b[0;32m    123\u001b[0m     \u001b[38;5;28;01mif\u001b[39;00m continuation_token \u001b[38;5;129;01mis\u001b[39;00m \u001b[38;5;28;01mNone\u001b[39;00m:\n\u001b[1;32m--> 124\u001b[0m         \u001b[38;5;28;01mreturn\u001b[39;00m \u001b[38;5;28;43mself\u001b[39;49m\u001b[38;5;241;43m.\u001b[39;49m\u001b[43m_client\u001b[49m\u001b[38;5;241;43m.\u001b[39;49m\u001b[43mdocuments\u001b[49m\u001b[38;5;241;43m.\u001b[39;49m\u001b[43msearch_post\u001b[49m\u001b[43m(\u001b[49m\u001b[43msearch_request\u001b[49m\u001b[38;5;241;43m=\u001b[39;49m\u001b[38;5;28;43mself\u001b[39;49m\u001b[38;5;241;43m.\u001b[39;49m\u001b[43m_initial_query\u001b[49m\u001b[38;5;241;43m.\u001b[39;49m\u001b[43mrequest\u001b[49m\u001b[43m,\u001b[49m\u001b[43m \u001b[49m\u001b[38;5;241;43m*\u001b[39;49m\u001b[38;5;241;43m*\u001b[39;49m\u001b[38;5;28;43mself\u001b[39;49m\u001b[38;5;241;43m.\u001b[39;49m\u001b[43m_kwargs\u001b[49m\u001b[43m)\u001b[49m\n\u001b[0;32m    126\u001b[0m     _next_link, next_page_request \u001b[38;5;241m=\u001b[39m unpack_continuation_token(continuation_token)\n\u001b[0;32m    128\u001b[0m     \u001b[38;5;28;01mreturn\u001b[39;00m \u001b[38;5;28mself\u001b[39m\u001b[38;5;241m.\u001b[39m_client\u001b[38;5;241m.\u001b[39mdocuments\u001b[38;5;241m.\u001b[39msearch_post(search_request\u001b[38;5;241m=\u001b[39mnext_page_request, \u001b[38;5;241m*\u001b[39m\u001b[38;5;241m*\u001b[39m\u001b[38;5;28mself\u001b[39m\u001b[38;5;241m.\u001b[39m_kwargs)\n",
            "File \u001b[1;32mc:\\Users\\aalatval\\AppData\\Local\\Programs\\Python\\Python311\\Lib\\site-packages\\azure\\core\\tracing\\decorator.py:78\u001b[0m, in \u001b[0;36mdistributed_trace.<locals>.decorator.<locals>.wrapper_use_tracer\u001b[1;34m(*args, **kwargs)\u001b[0m\n\u001b[0;32m     76\u001b[0m span_impl_type \u001b[38;5;241m=\u001b[39m settings\u001b[38;5;241m.\u001b[39mtracing_implementation()\n\u001b[0;32m     77\u001b[0m \u001b[38;5;28;01mif\u001b[39;00m span_impl_type \u001b[38;5;129;01mis\u001b[39;00m \u001b[38;5;28;01mNone\u001b[39;00m:\n\u001b[1;32m---> 78\u001b[0m     \u001b[38;5;28;01mreturn\u001b[39;00m \u001b[43mfunc\u001b[49m\u001b[43m(\u001b[49m\u001b[38;5;241;43m*\u001b[39;49m\u001b[43margs\u001b[49m\u001b[43m,\u001b[49m\u001b[43m \u001b[49m\u001b[38;5;241;43m*\u001b[39;49m\u001b[38;5;241;43m*\u001b[39;49m\u001b[43mkwargs\u001b[49m\u001b[43m)\u001b[49m\n\u001b[0;32m     80\u001b[0m \u001b[38;5;66;03m# Merge span is parameter is set, but only if no explicit parent are passed\u001b[39;00m\n\u001b[0;32m     81\u001b[0m \u001b[38;5;28;01mif\u001b[39;00m merge_span \u001b[38;5;129;01mand\u001b[39;00m \u001b[38;5;129;01mnot\u001b[39;00m passed_in_parent:\n",
            "File \u001b[1;32mc:\\Users\\aalatval\\AppData\\Local\\Programs\\Python\\Python311\\Lib\\site-packages\\azure\\search\\documents\\_generated\\operations\\_documents_operations.py:793\u001b[0m, in \u001b[0;36mDocumentsOperations.search_post\u001b[1;34m(self, search_request, request_options, **kwargs)\u001b[0m\n\u001b[0;32m    791\u001b[0m     map_error(status_code\u001b[38;5;241m=\u001b[39mresponse\u001b[38;5;241m.\u001b[39mstatus_code, response\u001b[38;5;241m=\u001b[39mresponse, error_map\u001b[38;5;241m=\u001b[39merror_map)\n\u001b[0;32m    792\u001b[0m     error \u001b[38;5;241m=\u001b[39m \u001b[38;5;28mself\u001b[39m\u001b[38;5;241m.\u001b[39m_deserialize\u001b[38;5;241m.\u001b[39mfailsafe_deserialize(_models\u001b[38;5;241m.\u001b[39mSearchError, pipeline_response)\n\u001b[1;32m--> 793\u001b[0m     \u001b[38;5;28;01mraise\u001b[39;00m HttpResponseError(response\u001b[38;5;241m=\u001b[39mresponse, model\u001b[38;5;241m=\u001b[39merror)\n\u001b[0;32m    795\u001b[0m deserialized \u001b[38;5;241m=\u001b[39m \u001b[38;5;28mself\u001b[39m\u001b[38;5;241m.\u001b[39m_deserialize(\u001b[38;5;124m\"\u001b[39m\u001b[38;5;124mSearchDocumentsResult\u001b[39m\u001b[38;5;124m\"\u001b[39m, pipeline_response)\n\u001b[0;32m    797\u001b[0m \u001b[38;5;28;01mif\u001b[39;00m \u001b[38;5;28mcls\u001b[39m:\n",
            "\u001b[1;31mHttpResponseError\u001b[0m: (InvalidRequestParameter) There's a mismatch in vector dimensions. The vector field 'description_vector', with dimension of '1536', expects a length of '1536'. However, the provided vector has a length of '3072'. Please ensure that the vector length matches the expected length of the vector field. Read the following documentation for more details: https://learn.microsoft.com/en-us/azure/search/vector-search-how-to-configure-compression-storage.\r\nParameter name: vector.fields\nCode: InvalidRequestParameter\nMessage: There's a mismatch in vector dimensions. The vector field 'description_vector', with dimension of '1536', expects a length of '1536'. However, the provided vector has a length of '3072'. Please ensure that the vector length matches the expected length of the vector field. Read the following documentation for more details: https://learn.microsoft.com/en-us/azure/search/vector-search-how-to-configure-compression-storage.\r\nParameter name: vector.fields\nException Details:\t(InvalidVectorQuery) There's a mismatch in vector dimensions. The vector field 'description_vector', with dimension of '1536', expects a length of '1536'. However, the provided vector has a length of '3072'. Please ensure that the vector length matches the expected length of the vector field. Read the following documentation for more details: https://learn.microsoft.com/en-us/azure/search/vector-search-how-to-configure-compression-storage.\n\tCode: InvalidVectorQuery\n\tMessage: There's a mismatch in vector dimensions. The vector field 'description_vector', with dimension of '1536', expects a length of '1536'. However, the provided vector has a length of '3072'. Please ensure that the vector length matches the expected length of the vector field. Read the following documentation for more details: https://learn.microsoft.com/en-us/azure/search/vector-search-how-to-configure-compression-storage."
          ]
        }
      ],
      "source": [
        "import requests\n",
        "from matplotlib import pyplot as plt\n",
        "from io import BytesIO\n",
        "\n",
        "def display_image_from_blob(image_file):\n",
        "   \n",
        "  # Append the image name to the SAS URL\n",
        "  image_url = blob_sas_url.split(\"?\")[0] + f\"/{image_file}?\" + blob_sas_url.split(\"?\")[1]\n",
        "\n",
        "  # Get the image content\n",
        "  response = requests.get(image_url)\n",
        "\n",
        "  # Check if the request was successful\n",
        "  if response.status_code == 200:\n",
        "      # Open the image and display it\n",
        "      img = plt.imread(BytesIO(response.content))\n",
        "      plt.imshow(img)\n",
        "      plt.axis('off') # No axes for this plot\n",
        "      plt.show()\n",
        "  else:\n",
        "      print(f\"Failed to retrieve image. HTTP Status code: {response.status_code}\")\n",
        "\n",
        "def print_results(results):  \n",
        "  for result in results:  \n",
        "    print(f\"Score: {result['@search.score']}\")\n",
        "    print(f\"Name: {result['name']}\")  \n",
        "    print(f\"Category: {result['category']}\")\n",
        "    print(f\"Tagline: {result['tagline']}\")\n",
        "    print(f\"Description: {result['description'][:50]}\")\n",
        "    print(f\"Original price: {result['original_price']}\")\n",
        "    print(f\"Special offer: {result['special_offer']}\")\n",
        "    print(f\"Image file: {result['product_image_file']}\\n\")\n",
        "    display_image_from_blob(result['product_image_file'])\n",
        "\n",
        "\n",
        "# Pure Vector Search with Filter\n",
        "query = \"tent for two people\"  \n",
        " \n",
        "results = search_client.search(  \n",
        "    search_text=None,  \n",
        "    vector=generate_embeddings(query), top_k=3,  \n",
        "    vector_fields=\"description_vector\",\n",
        "    filter=\"category eq 'outdoor'\",\n",
        "    select= fields_of_interest\n",
        ")  \n",
        "  \n",
        "print_results(results)"
      ]
    },
    {
      "cell_type": "markdown",
      "metadata": {},
      "source": [
        "## Create Azure SQL Database\n",
        "Now we are creating a small Azure SQL Database with customer, products and order data using the SQL Server that you have deployed manually."
      ]
    },
    {
      "cell_type": "code",
      "execution_count": null,
      "metadata": {
        "gather": {
          "logged": 1699873175635
        }
      },
      "outputs": [],
      "source": [
        "# Connection Strings\n",
        "server_connection_string = f\"Driver={{ODBC Driver 18 for SQL Server}};Server=tcp:{sql_db_server},1433;Uid={sql_db_user};Pwd={sql_db_password};Encrypt=yes;TrustServerCertificate=no;Connection Timeout=30;\"\n",
        "database_connection_string = server_connection_string + f\"Database={sql_db_name};\""
      ]
    },
    {
      "cell_type": "code",
      "execution_count": null,
      "metadata": {
        "gather": {
          "logged": 1699873175773
        }
      },
      "outputs": [],
      "source": [
        "import random\n",
        "\n",
        "customers = [\n",
        "    {\"name\": \"John Doe\", \"account_id\": 1000, \"loyalty_points\" : random.randint(400, 800)},\n",
        "    {\"name\": \"Jane Smith\", \"account_id\": 1001, \"loyalty_points\" : random.randint(400, 800)},\n",
        "    {\"name\": \"Alice Johnson\", \"account_id\": 1002, \"loyalty_points\" : random.randint(400, 800)},\n",
        "    {\"name\": \"Bob Wilson\", \"account_id\": 1003, \"loyalty_points\" : random.randint(400, 800)},\n",
        "    {\"name\": \"Charlie Brown\", \"account_id\": 1004, \"loyalty_points\" : random.randint(400, 800)},\n",
        "    {\"name\": \"Eve Adams\", \"account_id\": 1005, \"loyalty_points\" : random.randint(400, 800)},\n",
        "    {\"name\": \"Frank Castle\", \"account_id\": 1006, \"loyalty_points\" : random.randint(400, 800)},\n",
        "    {\"name\": \"Grace Lee\", \"account_id\": 1007, \"loyalty_points\" : random.randint(400, 800)},\n",
        "    {\"name\": \"Hannah Montan\", \"account_id\": 1008, \"loyalty_points\" : random.randint(400, 800)},\n",
        "    {\"name\": \"Ian Somerhalder\", \"account_id\": 1009, \"loyalty_points\" : random.randint(400, 800)},\n",
        "    {\"name\": \"Peter Mick\", \"account_id\": 1010, \"loyalty_points\" : random.randint(400, 800)},\n",
        "]\n",
        "\n",
        "products = [\n",
        "    {\"id\": 1000, \"name\": \"Elysian Voyager\", \"stock\": random.randint(0,50)},\n",
        "    {\"id\": 1001, \"name\": \"Terra Roamer\", \"stock\": random.randint(0,50)},\n",
        "    {\"id\": 1002, \"name\": \"Cardinal Pathfinder\", \"stock\": random.randint(0,50)},\n",
        "    {\"id\": 1003, \"name\": \"Slumber Drifter\", \"stock\": random.randint(0,50)},\n",
        "    {\"id\": 1004, \"name\": \"Blaze Adventurer\", \"stock\": random.randint(0,50)},\n",
        "    {\"id\": 1005, \"name\": \"BiteShield Pro\", \"stock\": random.randint(0,50)},\n",
        "    {\"id\": 1006, \"name\": \"Feast Frontier\", \"stock\": random.randint(0,50)},\n",
        "    {\"id\": 1007, \"name\": \"Summit Stride\", \"stock\": random.randint(0,50)},\n",
        "    {\"id\": 1008, \"name\": \"Rugged Ranger\",\"stock\": random.randint(0,50)},\n",
        "    {\"id\": 1100, \"name\": \"Match Master\", \"stock\": random.randint(0,50)},\n",
        "    {\"id\": 1101, \"name\": \"Court Queen\", \"stock\": random.randint(0,50)},\n",
        "    {\"id\": 1102, \"name\": \"Junior Ace\", \"stock\": random.randint(0,50)},\n",
        "    {\"id\": 1103, \"name\": \"ServeMaster Pro\", \"stock\": random.randint(0,50)},\n",
        "    {\"id\": 1104, \"name\": \"Court Commander\", \"stock\": random.randint(0,50)},\n",
        "    {\"id\": 1105, \"name\": \"StringMaster Elite\", \"stock\": random.randint(0,50)},\n",
        "    {\"id\": 1106, \"name\": \"Court Conqueror\", \"stock\": random.randint(0,50)},\n",
        "    {\"id\": 1107, \"name\": \"AceMaster 3000\", \"stock\": random.randint(0,50)},\n",
        "    {\"id\": 1108, \"name\": \"Ace Attire\", \"stock\": random.randint(0,50)},\n",
        "    {\"id\": 1109, \"name\": \"Serve & Style\", \"stock\": random.randint(0,50)},\n",
        "]\n",
        "orders = [\n",
        "    {\"order_id\": 1000, \"product_id\": 1001, \"days_to_delivery\": random.randint(3,15), \"account_id\": 1000},\n",
        "    {\"order_id\": 1001, \"product_id\": 1001, \"days_to_delivery\": random.randint(3,15), \"account_id\": 1001},\n",
        "    {\"order_id\": 1002, \"product_id\": 1002, \"days_to_delivery\": random.randint(3,15), \"account_id\": 1002},\n",
        "    {\"order_id\": 1003, \"product_id\": 1003, \"days_to_delivery\": random.randint(3,15), \"account_id\": 1003},\n",
        "    {\"order_id\": 1004, \"product_id\": 1004, \"days_to_delivery\": random.randint(3,15), \"account_id\": 1004},\n",
        "    {\"order_id\": 1005, \"product_id\": 1005, \"days_to_delivery\": random.randint(3,15), \"account_id\": 1005},\n",
        "    {\"order_id\": 1006, \"product_id\": 1006, \"days_to_delivery\": random.randint(3,15), \"account_id\": 1006},\n",
        "    {\"order_id\": 1007, \"product_id\": 1007, \"days_to_delivery\": random.randint(3,15), \"account_id\": 1007},\n",
        "    {\"order_id\": 1008, \"product_id\": 1008, \"days_to_delivery\": random.randint(3,15), \"account_id\": 1008},\n",
        "    {\"order_id\": 1010, \"product_id\": 1000, \"days_to_delivery\": random.randint(3,15), \"account_id\": 1009},\n",
        "    {\"order_id\": 1012, \"product_id\": 1101, \"days_to_delivery\": random.randint(3,15), \"account_id\": 1001},\n",
        "    {\"order_id\": 1013, \"product_id\": 1102, \"days_to_delivery\": random.randint(3,15), \"account_id\": 1002},\n",
        "    {\"order_id\": 1014, \"product_id\": 1103, \"days_to_delivery\": random.randint(3,15), \"account_id\": 1003},\n",
        "    {\"order_id\": 1015, \"product_id\": 1104, \"days_to_delivery\": random.randint(3,15), \"account_id\": 1004},\n",
        "    {\"order_id\": 1016, \"product_id\": 1105, \"days_to_delivery\": random.randint(3,15), \"account_id\": 1005},\n",
        "    {\"order_id\": 1017, \"product_id\": 1106, \"days_to_delivery\": random.randint(3,15), \"account_id\": 1006},\n",
        "    {\"order_id\": 1018, \"product_id\": 1107, \"days_to_delivery\": random.randint(3,15), \"account_id\": 1007},\n",
        "    {\"order_id\": 1019, \"product_id\": 1108, \"days_to_delivery\": random.randint(3,15), \"account_id\": 1008},\n",
        "]"
      ]
    },
    {
      "cell_type": "code",
      "execution_count": null,
      "metadata": {
        "gather": {
          "logged": 1699873175920
        }
      },
      "outputs": [
        {
          "name": "stdout",
          "output_type": "stream",
          "text": [
            "Connection to the server/database was successful!\n"
          ]
        }
      ],
      "source": [
        "# Test connection to the SQL Server\n",
        "\n",
        "try:\n",
        "    # Try to establish a connection\n",
        "    conn = pyodbc.connect(server_connection_string)\n",
        "    \n",
        "    # If connection is successful, print a message and close the connection\n",
        "    print(\"Connection to the server/database was successful!\")\n",
        "    conn.close()\n",
        "    \n",
        "except pyodbc.Error as ex:\n",
        "    # Catch any connection errors and print them\n",
        "    sqlstate = ex.args[0] if len(ex.args) > 0 else None\n",
        "    message = ex.args[1] if len(ex.args) > 1 else None\n",
        "    print(f\"Failed to connect to the server/database. SQLSTATE: {sqlstate}, Message: {message}\")"
      ]
    },
    {
      "cell_type": "code",
      "execution_count": null,
      "metadata": {
        "gather": {
          "logged": 1699873247080
        }
      },
      "outputs": [
        {
          "name": "stdout",
          "output_type": "stream",
          "text": [
            "Table: Customers\n",
            "    name (varchar)\n",
            "    account_id (int)\n",
            "    loyalty_points (int)\n",
            "\n",
            "Table: Orders\n",
            "    order_id (int)\n",
            "    product_id (int)\n",
            "    days_to_delivery (int)\n",
            "    account_id (int)\n",
            "\n",
            "Table: Products\n",
            "    id (int)\n",
            "    name (varchar)\n",
            "    stock (int)\n",
            "\n"
          ]
        }
      ],
      "source": [
        "# SET TO TRUE ONLY TO REBUILD DATABASE BASED ON ABOVE SAMPLE DATA\n",
        "rebuild_database = True\n",
        "\n",
        "if rebuild_database:\n",
        "\n",
        "    # Connect to the server without specifying a database\n",
        "    server_conn = pyodbc.connect(server_connection_string, autocommit=True)\n",
        "    server_cursor = server_conn.cursor()\n",
        "\n",
        "    # Drop the database if it exists\n",
        "    server_cursor.execute(f\"IF EXISTS(SELECT * FROM sys.databases WHERE name='{sql_db_name}') DROP DATABASE {sql_db_name}\")\n",
        "\n",
        "    # Recreate the database\n",
        "    server_cursor.execute(f\"CREATE DATABASE {sql_db_name}\")\n",
        "    server_cursor.close()\n",
        "    server_conn.close()\n",
        "\n",
        "    # Now, connect to the newly created database\n",
        "    conn = pyodbc.connect(database_connection_string)\n",
        "    cursor = conn.cursor()\n",
        "\n",
        "    # Ensure you're using the existing database\n",
        "    cursor.execute(f\"USE {sql_db_name}\")\n",
        "\n",
        "    # Create tables and populate them\n",
        "    cursor.execute(\"\"\"\n",
        "    CREATE TABLE Customers (\n",
        "        name VARCHAR(255),\n",
        "        account_id INT PRIMARY KEY,\n",
        "        loyalty_points INT,\n",
        "    )\n",
        "    \"\"\")\n",
        "\n",
        "    for customer in customers:\n",
        "        cursor.execute(\"INSERT INTO Customers VALUES (?, ?, ?)\", \n",
        "                    (customer[\"name\"], customer[\"account_id\"], customer[\"loyalty_points\"]))\n",
        "\n",
        "    cursor.execute(\"\"\"\n",
        "    CREATE TABLE Products (\n",
        "        id INT PRIMARY KEY,\n",
        "        name VARCHAR(255),\n",
        "        stock INT\n",
        "    )\n",
        "    \"\"\")\n",
        "\n",
        "    for product in products:\n",
        "        cursor.execute(\"INSERT INTO Products VALUES (?, ?, ?)\", \n",
        "                    (product[\"id\"], product[\"name\"], product[\"stock\"]))\n",
        "\n",
        "    cursor.execute(\"\"\"\n",
        "    CREATE TABLE Orders (\n",
        "        order_id INT PRIMARY KEY,\n",
        "        product_id INT,\n",
        "        days_to_delivery INT,\n",
        "        account_id INT,\n",
        "        FOREIGN KEY(product_id) REFERENCES Products(id),\n",
        "        FOREIGN KEY(account_id) REFERENCES Customers(account_id)\n",
        "    )\n",
        "    \"\"\")\n",
        "\n",
        "    for order in orders:\n",
        "        cursor.execute(\"INSERT INTO Orders VALUES (?, ?, ?, ?)\", \n",
        "                    (order[\"order_id\"], order[\"product_id\"], order[\"days_to_delivery\"], order[\"account_id\"]))\n",
        "\n",
        "    conn.commit()\n",
        "\n",
        "    #Verify database tables and columns\n",
        "    def fetch_schema_info():\n",
        "        cursor.execute(\"\"\"\n",
        "            SELECT t.TABLE_NAME, c.COLUMN_NAME, c.DATA_TYPE \n",
        "            FROM INFORMATION_SCHEMA.TABLES AS t\n",
        "            JOIN INFORMATION_SCHEMA.COLUMNS AS c ON t.TABLE_NAME = c.TABLE_NAME\n",
        "            WHERE t.TABLE_SCHEMA = 'dbo'  -- assuming you're using the default schema\n",
        "            ORDER BY t.TABLE_NAME, c.ORDINAL_POSITION\n",
        "        \"\"\")\n",
        "        \n",
        "        tables = {}\n",
        "        for row in cursor.fetchall():\n",
        "            table_name = row[0]\n",
        "            column_name = row[1]\n",
        "            data_type = row[2]\n",
        "            \n",
        "            if table_name not in tables:\n",
        "                tables[table_name] = []\n",
        "            \n",
        "            tables[table_name].append(f\"{column_name} ({data_type})\")\n",
        "        \n",
        "        return tables\n",
        "\n",
        "    schema_info = fetch_schema_info()\n",
        "\n",
        "    # Print the schema info in a user-friendly format\n",
        "    for table, columns in schema_info.items():\n",
        "        print(f\"Table: {table}\")\n",
        "        for col in columns:\n",
        "            print(f\"    {col}\")\n",
        "        print()\n",
        "\n",
        "    # Close connections\n",
        "    cursor.close()\n",
        "    conn.close()"
      ]
    },
    {
      "cell_type": "code",
      "execution_count": null,
      "metadata": {},
      "outputs": [],
      "source": []
    }
  ],
  "metadata": {
    "kernel_info": {
      "name": "python310-sdkv2"
    },
    "kernelspec": {
      "display_name": "Python 3",
      "language": "python",
      "name": "python3"
    },
    "language_info": {
      "codemirror_mode": {
        "name": "ipython",
        "version": 3
      },
      "file_extension": ".py",
      "mimetype": "text/x-python",
      "name": "python",
      "nbconvert_exporter": "python",
      "pygments_lexer": "ipython3",
      "version": "3.11.9"
    },
    "microsoft": {
      "host": {
        "AzureML": {
          "notebookHasBeenCompleted": true
        }
      },
      "ms_spell_check": {
        "ms_spell_check_language": "en"
      }
    },
    "nteract": {
      "version": "nteract-front-end@1.0.0"
    },
    "orig_nbformat": 4
  },
  "nbformat": 4,
  "nbformat_minor": 2
}
